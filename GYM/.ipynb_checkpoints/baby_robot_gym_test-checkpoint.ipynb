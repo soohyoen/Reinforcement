{
 "cells": [
  {
   "cell_type": "code",
   "execution_count": 5,
   "id": "2491eea1",
   "metadata": {},
   "outputs": [
    {
     "name": "stdout",
     "output_type": "stream",
     "text": [
      "importing Jupyter notebook from actions.ipynb\n"
     ]
    }
   ],
   "source": [
    "import gym\n",
    "import babyrobot\n",
    "import import_ipynb\n",
    "import actions"
   ]
  },
  {
   "cell_type": "code",
   "execution_count": 6,
   "id": "453ae9d1",
   "metadata": {
    "scrolled": true
   },
   "outputs": [],
   "source": [
    "env_name = \"BabyRobotEnv-v2\""
   ]
  },
  {
   "cell_type": "code",
   "execution_count": null,
   "id": "4ff0d789",
   "metadata": {},
   "outputs": [],
   "source": []
  }
 ],
 "metadata": {
  "kernelspec": {
   "display_name": "rein_study",
   "language": "python",
   "name": "rein_study"
  },
  "language_info": {
   "codemirror_mode": {
    "name": "ipython",
    "version": 3
   },
   "file_extension": ".py",
   "mimetype": "text/x-python",
   "name": "python",
   "nbconvert_exporter": "python",
   "pygments_lexer": "ipython3",
   "version": "3.7.13"
  }
 },
 "nbformat": 4,
 "nbformat_minor": 5
}
