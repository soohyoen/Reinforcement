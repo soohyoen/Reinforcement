{
 "cells": [
  {
   "cell_type": "code",
   "execution_count": 14,
   "id": "42630ac5",
   "metadata": {},
   "outputs": [
    {
     "name": "stdout",
     "output_type": "stream",
     "text": [
      "Baby Robot Version 1.0.17\n",
      "Gym Version = 0.25.2\n"
     ]
    }
   ],
   "source": [
    "import babyrobot\n",
    "print(f\"Baby Robot Version {babyrobot.__version__}\")\n",
    "\n",
    "import gym\n",
    "print(f\"Gym Version = {gym.__version__}\")"
   ]
  },
  {
   "cell_type": "code",
   "execution_count": 23,
   "id": "15933723",
   "metadata": {},
   "outputs": [],
   "source": [
    "import os\n",
    "import numpy as np\n",
    "import random\n",
    "from time import sleep, time\n",
    "from ipywidgets import Layout\n",
    "from ipywidgets import Play, IntProgress, HBox, VBox, link\n",
    "from babyrobot.lib import PolicyEvaluation\n",
    "from babyrobot.lib import Policy\n",
    "from babyrobot.lib import Utils\n",
    "\n",
    "import warnings\n",
    "warnings.filterwarnings('ignore')\n",
    "\n",
    "from babyrobot.envs.lib import Actions\n",
    "from babyrobot.envs.lib import Direction\n",
    "\n",
    "#import import_ipynb\n",
    "#import actions as Action\n",
    "#import direction as Direction"
   ]
  },
  {
   "cell_type": "code",
   "execution_count": 16,
   "id": "b395db4d",
   "metadata": {},
   "outputs": [
    {
     "data": {
      "application/vnd.jupyter.widget-view+json": {
       "model_id": "beeb76eadec94c43858bbcccc88eddb7",
       "version_major": 2,
       "version_minor": 0
      },
      "text/plain": [
       "MultiCanvas(height=196, sync_image_data=True, width=424)"
      ]
     },
     "metadata": {},
     "output_type": "display_data"
    }
   ],
   "source": [
    "setup = {'width':5, 'height':3, 'start':[0,1], 'end':[3,2],'add_compass':True}\n",
    "setup['base_areas'] = [(1,1,3,1)]\n",
    "env = babyrobot.make(\"BabyRobot-v0\", **setup)\n",
    "env.render()"
   ]
  },
  {
   "cell_type": "code",
   "execution_count": 17,
   "id": "4a057b44",
   "metadata": {},
   "outputs": [
    {
     "name": "stdout",
     "output_type": "stream",
     "text": [
      "<bound method _deprecate_mode.<locals>.render of <OrderEnforcing<StepAPICompatibility<PassiveEnvChecker<BabyRobot_v0<BabyRobot-v0>>>>>>\n"
     ]
    }
   ],
   "source": [
    "print(env.render)"
   ]
  },
  {
   "cell_type": "code",
   "execution_count": 19,
   "id": "b6be353c",
   "metadata": {
    "scrolled": true
   },
   "outputs": [
    {
     "data": {
      "application/vnd.jupyter.widget-view+json": {
       "model_id": "8c3d7fe4de774ea283481d7ed7cb1171",
       "version_major": 2,
       "version_minor": 0
      },
      "text/plain": [
       "MultiCanvas(height=196, sync_image_data=True, width=424)"
      ]
     },
     "metadata": {},
     "output_type": "display_data"
    }
   ],
   "source": [
    "level_value = np.array([[-5,-6,-5,-4,-3],\n",
    "                       [-4, nan, nan, nan,-2],\n",
    "                       [-3,-2,-1,0,-1]])\n",
    "\n",
    "env = babyrobot.make(\"BabyRobot-v0\", **setup)\n",
    "info = {'text': level_value}\n",
    "env.show_info(info)\n",
    "env.render()"
   ]
  },
  {
   "cell_type": "code",
   "execution_count": 20,
   "id": "c1ca0f43",
   "metadata": {},
   "outputs": [
    {
     "data": {
      "application/vnd.jupyter.widget-view+json": {
       "model_id": "90e423bbd73f4503aa03f63aa43ddd69",
       "version_major": 2,
       "version_minor": 0
      },
      "text/plain": [
       "MultiCanvas(height=196, sync_image_data=True, width=424)"
      ]
     },
     "metadata": {},
     "output_type": "display_data"
    }
   ],
   "source": [
    "env = babyrobot.make(\"BabyRobot-v0\", **setup)\n",
    "env.render()"
   ]
  },
  {
   "cell_type": "code",
   "execution_count": 21,
   "id": "d7ef5b93",
   "metadata": {},
   "outputs": [],
   "source": [
    "policy = Policy(env)\n",
    "directions = policy.calculate_greedy_directions(level_value)\n",
    "info = {'directions':{'arrows':directions},'text':level_value}\n",
    "env.show_info(info)"
   ]
  },
  {
   "cell_type": "code",
   "execution_count": 22,
   "id": "294a8d37",
   "metadata": {},
   "outputs": [
    {
     "ename": "TypeError",
     "evalue": "__init__() missing 1 required positional argument: 'policy'",
     "output_type": "error",
     "traceback": [
      "\u001b[0;31m---------------------------------------------------------------------------\u001b[0m",
      "\u001b[0;31mTypeError\u001b[0m                                 Traceback (most recent call last)",
      "\u001b[0;32m/tmp/ipykernel_5023/2999691407.py\u001b[0m in \u001b[0;36m<module>\u001b[0;34m\u001b[0m\n\u001b[1;32m      4\u001b[0m \u001b[0menv\u001b[0m \u001b[0;34m=\u001b[0m \u001b[0mbabyrobot\u001b[0m\u001b[0;34m.\u001b[0m\u001b[0mmake\u001b[0m\u001b[0;34m(\u001b[0m\u001b[0;34m\"BabyRobot-v0\"\u001b[0m\u001b[0;34m,\u001b[0m \u001b[0;34m**\u001b[0m\u001b[0msetup\u001b[0m\u001b[0;34m)\u001b[0m\u001b[0;34m\u001b[0m\u001b[0;34m\u001b[0m\u001b[0m\n\u001b[1;32m      5\u001b[0m \u001b[0;34m\u001b[0m\u001b[0m\n\u001b[0;32m----> 6\u001b[0;31m \u001b[0mpolicy_evaluation\u001b[0m \u001b[0;34m=\u001b[0m \u001b[0mPolicyEvaluation\u001b[0m\u001b[0;34m(\u001b[0m\u001b[0menv\u001b[0m\u001b[0;34m)\u001b[0m\u001b[0;34m\u001b[0m\u001b[0;34m\u001b[0m\u001b[0m\n\u001b[0m\u001b[1;32m      7\u001b[0m \u001b[0;34m\u001b[0m\u001b[0m\n\u001b[1;32m      8\u001b[0m \u001b[0minfo\u001b[0m \u001b[0;34m=\u001b[0m \u001b[0;34m{\u001b[0m\u001b[0;34m'text'\u001b[0m\u001b[0;34m:\u001b[0m \u001b[0mpolicy_evaluation\u001b[0m\u001b[0;34m.\u001b[0m\u001b[0mend_values\u001b[0m\u001b[0;34m}\u001b[0m\u001b[0;34m\u001b[0m\u001b[0;34m\u001b[0m\u001b[0m\n",
      "\u001b[0;31mTypeError\u001b[0m: __init__() missing 1 required positional argument: 'policy'"
     ]
    }
   ],
   "source": [
    "setup = {'width':5, 'height':3, 'start':[0,1], 'end':[3,2], 'add_compass':True,\n",
    "        'show_start_text':False, 'show_end_text':False, 'robot':{'show':False}}\n",
    "setup['base_areas'] = [(1,1,3,1)]\n",
    "env = babyrobot.make(\"BabyRobot-v0\", **setup)\n",
    "\n",
    "policy_evaluation = PolicyEvaluation(env)\n",
    "\n",
    "info = {'text': policy_evaluation.end_values}\n",
    "env.show_info(info)"
   ]
  },
  {
   "cell_type": "code",
   "execution_count": null,
   "id": "0e8e62d5",
   "metadata": {
    "scrolled": true
   },
   "outputs": [],
   "source": [
    "print(env.render())"
   ]
  },
  {
   "cell_type": "code",
   "execution_count": null,
   "id": "b41f6183",
   "metadata": {},
   "outputs": [],
   "source": [
    "setup['add_compass'] = False\n",
    "env = babyrobot.make(\"BabyRobot-v0\", **setup)\n",
    "\n",
    "policy_evaluation.do_iteration()\n",
    "\n",
    "info = {'text': policy_evaluation.end_values}\n",
    "env.show_info(info)"
   ]
  },
  {
   "cell_type": "code",
   "execution_count": null,
   "id": "666050ee",
   "metadata": {},
   "outputs": [],
   "source": []
  }
 ],
 "metadata": {
  "kernelspec": {
   "display_name": "rein_study",
   "language": "python",
   "name": "rein_study"
  },
  "language_info": {
   "codemirror_mode": {
    "name": "ipython",
    "version": 3
   },
   "file_extension": ".py",
   "mimetype": "text/x-python",
   "name": "python",
   "nbconvert_exporter": "python",
   "pygments_lexer": "ipython3",
   "version": "3.7.13"
  }
 },
 "nbformat": 4,
 "nbformat_minor": 5
}
