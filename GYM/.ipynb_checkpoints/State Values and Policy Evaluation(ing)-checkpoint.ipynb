{
 "cells": [
  {
   "cell_type": "code",
   "execution_count": 1,
   "id": "42630ac5",
   "metadata": {},
   "outputs": [
    {
     "name": "stdout",
     "output_type": "stream",
     "text": [
      "Baby Robot Version 1.0.17\n",
      "Gym Version = 0.25.2\n"
     ]
    }
   ],
   "source": [
    "import babyrobot\n",
    "print(f\"Baby Robot Version {babyrobot.__version__}\")\n",
    "\n",
    "import gym\n",
    "print(f\"Gym Version = {gym.__version__}\")"
   ]
  },
  {
   "cell_type": "code",
   "execution_count": 6,
   "id": "15933723",
   "metadata": {},
   "outputs": [],
   "source": [
    "import os\n",
    "import numpy as np\n",
    "import random\n",
    "from time import sleep, time\n",
    "from ipywidgets import Layout\n",
    "from ipywidgets import Play, IntProgress, HBox, VBox, link\n",
    "from babyrobot.lib import PolicyEvaluation\n",
    "from babyrobot.lib import Policy\n",
    "from babyrobot.lib import Utils\n",
    "\n",
    "import warnings\n",
    "warnings.filterwarnings('ignore')\n",
    "\n",
    "import import_ipynb\n",
    "import actions as Action\n",
    "import direction as Direction"
   ]
  },
  {
   "cell_type": "code",
   "execution_count": null,
   "id": "b395db4d",
   "metadata": {},
   "outputs": [],
   "source": []
  }
 ],
 "metadata": {
  "kernelspec": {
   "display_name": "rein_study",
   "language": "python",
   "name": "rein_study"
  },
  "language_info": {
   "codemirror_mode": {
    "name": "ipython",
    "version": 3
   },
   "file_extension": ".py",
   "mimetype": "text/x-python",
   "name": "python",
   "nbconvert_exporter": "python",
   "pygments_lexer": "ipython3",
   "version": "3.7.13"
  }
 },
 "nbformat": 4,
 "nbformat_minor": 5
}
