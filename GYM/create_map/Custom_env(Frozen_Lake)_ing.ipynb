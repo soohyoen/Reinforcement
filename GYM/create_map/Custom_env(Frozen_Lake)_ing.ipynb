{
 "cells": [
  {
   "cell_type": "code",
   "execution_count": 5,
   "id": "a29ce2f0",
   "metadata": {},
   "outputs": [],
   "source": [
    "from contextlib import closing\n",
    "from io import StringIO\n",
    "from os import path\n",
    "from typing import List, Optional\n",
    "import numpy as np\n",
    "from gym import Env, logger,spaces, utils\n",
    "from gym.envs.toy_text.utils import categorical_sample\n",
    "from gym.error import DependencyNotInstalled"
   ]
  },
  {
   "cell_type": "code",
   "execution_count": 2,
   "id": "7fd37fa0",
   "metadata": {},
   "outputs": [],
   "source": [
    "LEFT = 0\n",
    "DOWN = 1\n",
    "RIGHT = 2\n",
    "UP = 3"
   ]
  },
  {
   "cell_type": "code",
   "execution_count": 3,
   "id": "447efcf9",
   "metadata": {},
   "outputs": [],
   "source": [
    "MAPS = {\n",
    "    \"4x4\" :[\"SFFF\",\"FHFH\",\"FFFH\",\"HFFG\"],\n",
    "    \"8x8\" :[\"SFFFFFFF\",\n",
    "            \"FFFFFFFF\",\n",
    "            \"FFFHFFFF\",\n",
    "            \"FFFFFHFF\",\n",
    "            \"FFFHFFFF\",\n",
    "            \"FHHFFFHF\",\n",
    "            \"FHFFHFHF\",\n",
    "            \"FFFHFFFG\",\n",
    "    ],\n",
    "}"
   ]
  },
  {
   "cell_type": "code",
   "execution_count": 4,
   "id": "6d046474",
   "metadata": {},
   "outputs": [],
   "source": [
    "# 말판에 움직임을 계속해서 시켜줌\n",
    "# G일때 True 반환\n",
    "# H일 때 frontier에 append(경계선)\n",
    "\n",
    "\n",
    "def is_valid(board: List[List[str]], max_size:int) -> bool:\n",
    "    frontier, discovered = [], set()\n",
    "    frontier.append((0,0))\n",
    "    while frontier:\n",
    "        r,c = frontier.pop()\n",
    "        if not (r,c) in discovered:\n",
    "            discovered.add((r,c))\n",
    "            directions = [(1,0), (0,1), (-1,0), (0,-1)]\n",
    "            for x,y in directios:\n",
    "                r_new = r + x\n",
    "                c_new = c + y\n",
    "                if r_new < 0 or r_new >= max_size or c_new < 0 or c_new >= max_size:\n",
    "                    continue\n",
    "                if board[r_new][c_new] == \"G\":\n",
    "                    return True\n",
    "                if board[r_new][c_new] == \"H\":\n",
    "                    frontier.append((r_new, c_new))\n",
    "                    \n",
    "    return False"
   ]
  },
  {
   "cell_type": "code",
   "execution_count": 6,
   "id": "5358b911",
   "metadata": {},
   "outputs": [],
   "source": [
    "def generate_random_map(size: int = 8, p: float = 0.8) -> List[str]:\n",
    "    \n",
    "    valid = False\n",
    "    board = []\n",
    "    \n",
    "    while not valid:\n",
    "        p = min(1, p)\n",
    "        board = np.random.choice([\"F\",\"H\"],(size,size), p=[p, 1 -p])\n",
    "        board[0][0] = \"S\"\n",
    "        board[-1][-1] = \"G\"\n",
    "        valid = is_valid(board,size)\n",
    "    return [\"\".join(x) for x in board]"
   ]
  },
  {
   "cell_type": "code",
   "execution_count": null,
   "id": "4d51fe0c",
   "metadata": {},
   "outputs": [],
   "source": [
    "class FrozenLakeEnv(Env):\n",
    "    \n",
    "    def __init__(\n",
    "        self,\n",
    "        render_mode: Optional[str] = None,\n",
    "        desc = None,\n",
    "        map_name = \"4x4\",\n",
    "        is_slippery = True\n",
    "    ):\n",
    "        if desc is None and map_name is None:\n",
    "            desc = generate_random_map()\n",
    "        elif desc is None:\n",
    "            desc = MAPS[map_name]\n",
    "        self.desc = desc = np.asarray(desc, dtype=\"c\")\n",
    "        self.nrow, self.ncol = nrow, ncol = desc.shape\n",
    "        self.reward_range = (0,1)\n",
    "        \n",
    "        nA = 4\n",
    "        nS = nrow * ncol\n",
    "        \n",
    "        self.initial_state_distrib = np.array(desc == b\"S\").astype(\"float64\").ravel()\n",
    "        self.initial_state_distrib /= self.initial_state_distrib.sum()\n",
    "        \n",
    "        self.P = {s: {a:[] for a in range(nA) for s in range(nS)}}\n",
    "        \n",
    "        def to_s(row,col):\n",
    "            return row * ncol + col\n",
    "        \n",
    "        def inc(row,col,a):\n",
    "            if a == LEFT:\n",
    "                col = max(col, -1, 0)\n",
    "            elif a == DOWN:\n",
    "                row = min(row +1, nrow -1)\n",
    "            elif a = RIGHT:\n",
    "                col = min(col +1, ncol -1)\n",
    "            elif a = UP:\n",
    "                row = max(row, -1, 0)\n",
    "            return (row,col)\n",
    "        \n",
    "        def update_probability_matrix(row, col, action):\n",
    "            newrow, newcol = inc(row, col, action)\n",
    "            newstate = to_s(newrow, newcol)\n",
    "            newletter = desc[newrow, newcol]\n",
    "            terminated = bytes(newletter) in b\"GH\"\n",
    "            reward = float(newletter == b\"G\")\n",
    "            return newstate, reward, terminated\n",
    "\n",
    "            "
   ]
  }
 ],
 "metadata": {
  "kernelspec": {
   "display_name": "rein_study",
   "language": "python",
   "name": "rein_study"
  },
  "language_info": {
   "codemirror_mode": {
    "name": "ipython",
    "version": 3
   },
   "file_extension": ".py",
   "mimetype": "text/x-python",
   "name": "python",
   "nbconvert_exporter": "python",
   "pygments_lexer": "ipython3",
   "version": "3.7.13"
  }
 },
 "nbformat": 4,
 "nbformat_minor": 5
}
