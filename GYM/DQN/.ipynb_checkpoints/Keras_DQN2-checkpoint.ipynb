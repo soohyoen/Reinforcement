{
 "cells": [
  {
   "cell_type": "code",
   "execution_count": 13,
   "id": "32e4cd29",
   "metadata": {},
   "outputs": [],
   "source": [
    "# import\n",
    "import gym\n",
    "import numpy as np\n",
    "from tensorflow.keras.models import Sequential, Model\n",
    "from tensorflow.keras.layers import Dense, Dropout, Input\n",
    "from tensorflow.keras.layers import Add, Multiply\n",
    "from tensorflow.keras.optimizers import Adam\n",
    "import tensorflow.keras.backend as K\n",
    "\n",
    "import tensorflow as tf\n",
    "import random\n",
    "from collections import deque"
   ]
  },
  {
   "cell_type": "code",
   "execution_count": null,
   "id": "87a5fb9f",
   "metadata": {},
   "outputs": [],
   "source": [
    "class ActorCritic:\n",
    "    def __init__(self, env, sess):\n",
    "        self.env = env\n",
    "        self.sess = sess\n",
    "        \n",
    "        self.learning_rate = 0.001\n",
    "        self.epsilon = 1.0\n",
    "        self.epsilon_decay = .995\n",
    "        self.gamma = .95\n",
    "        self.tau = .125\n",
    "        \n",
    "        self.memory = deque(maxlen=2000)\n",
    "        self.actor_state_input, self.actor_model = self.create_actor_model()\n",
    "        _, self.target_actor_model = self.create_actor_model()\n",
    "        \n",
    "        self.actor_critic_grad = tf.placeholder(tf.float32, [None, self.env.action_space,shape[0]])\n",
    "        \n",
    "        actor_model_weights = self.actor_model.trainable_weights\n",
    "        self.actor_grads = tf.gradients(self.actor_model.output, \n",
    "                                       actor_model_weights, -self.actor_critic_grad)\n",
    "        grads = zip(self.actor_grads, actor_model_weights)\n",
    "        self.optimize = tf.train.AdamOptimizer(self.learning_rate).apply_gradients(grads)\n",
    "        \n",
    "        self.acritic_state_input, self.critic_action_input, self.critic_model = self.create_critic_model()\n",
    "        _, _, self.target_critic_model = self.create_critic_model()\n",
    "        \n",
    "        self.critic_grads = tf.gradients(self.critic_model.output, self.critic_action_input)\n",
    "        \n",
    "        self.sess.run(tf.initialize_all_variables())\n",
    "        \n",
    "        def create_actor_model(self):\n",
    "            state_input = Input(shape = self.env.observation_space.shape)\n",
    "            h1 = Dense(24,activation='relu')(state_input)\n",
    "            h2 = Dense(48, activation = 'relu')(h1)\n",
    "            h3 = Dense(24, activation = 'relu')(h2)\n",
    "            output = Dense(self.env.action_space.shape[0], activation='relu')(h3)\n",
    "            \n",
    "            model = Model(input=state_input, output = output)\n",
    "            adam = Adam(lr=0.001)\n",
    "            model.compile(loss=\"mse\", optimizer=adam)\n",
    "            return state_input, model"
   ]
  }
 ],
 "metadata": {
  "kernelspec": {
   "display_name": "rein_study",
   "language": "python",
   "name": "rein_study"
  },
  "language_info": {
   "codemirror_mode": {
    "name": "ipython",
    "version": 3
   },
   "file_extension": ".py",
   "mimetype": "text/x-python",
   "name": "python",
   "nbconvert_exporter": "python",
   "pygments_lexer": "ipython3",
   "version": "3.7.13"
  }
 },
 "nbformat": 4,
 "nbformat_minor": 5
}
