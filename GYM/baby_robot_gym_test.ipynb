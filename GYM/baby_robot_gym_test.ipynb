{
 "cells": [
  {
   "cell_type": "code",
   "execution_count": 12,
   "id": "f8cd74ef",
   "metadata": {},
   "outputs": [],
   "source": [
    "import gym\n",
    "import babyrobot\n",
    "import import_ipynb\n",
    "import actions as Actions"
   ]
  },
  {
   "cell_type": "code",
   "execution_count": 6,
   "id": "1b17a434",
   "metadata": {
    "scrolled": true
   },
   "outputs": [],
   "source": [
    "env_name = \"BabyRobotEnv-v2\""
   ]
  },
  {
   "cell_type": "code",
   "execution_count": 10,
   "id": "d499fb7c",
   "metadata": {},
   "outputs": [
    {
     "name": "stdout",
     "output_type": "stream",
     "text": [
      "Baby Robot Version = v2\n"
     ]
    }
   ],
   "source": [
    "setup = {}\n",
    "setup['grid'] = {'theme' : 'black_orange'}\n",
    "setup['side_panel'] = {'width':200}\n",
    "\n",
    "env = babyrobot.make(env_name, **setup)\n",
    "\n",
    "version = env.unwrapped.spec.id.split('-')[1]\n",
    "print(f\"Baby Robot Version = {version}\")"
   ]
  },
  {
   "cell_type": "code",
   "execution_count": 11,
   "id": "6bf1cb39",
   "metadata": {},
   "outputs": [
    {
     "name": "stdout",
     "output_type": "stream",
     "text": [
      "0    : (0,0) reward = 0\n"
     ]
    }
   ],
   "source": [
    "env.reset()\n",
    "env.render()"
   ]
  },
  {
   "cell_type": "code",
   "execution_count": 17,
   "id": "4aba2fc8",
   "metadata": {},
   "outputs": [
    {
     "name": "stdout",
     "output_type": "stream",
     "text": [
      "1    : (0,0) reward = -1\n",
      "0    : (0,0) reward = -1\n",
      "3    : (0,1) reward = -1\n",
      "4    : (0,1) reward = -1\n",
      "2    : (1,1) reward = -1\n",
      "1    : (1,0) reward = -1\n",
      "2    : (2,0) reward = -1\n",
      "2    : (2,0) reward = -1\n",
      "0    : (2,0) reward = -1\n",
      "2    : (2,0) reward = -1\n",
      "2    : (2,0) reward = -1\n",
      "0    : (2,0) reward = -1\n",
      "4    : (1,0) reward = -1\n",
      "4    : (0,0) reward = -1\n",
      "1    : (0,0) reward = -1\n",
      "0    : (0,0) reward = -1\n",
      "2    : (1,0) reward = -1\n",
      "0    : (1,0) reward = -1\n",
      "4    : (0,0) reward = -1\n",
      "1    : (0,0) reward = -1\n",
      "2    : (1,0) reward = -1\n",
      "2    : (2,0) reward = -1\n",
      "4    : (1,0) reward = -1\n",
      "1    : (1,0) reward = -1\n",
      "3    : (1,1) reward = -1\n",
      "4    : (0,1) reward = -1\n",
      "2    : (1,1) reward = -1\n",
      "2    : (2,1) reward = -1\n",
      "2    : (2,1) reward = -1\n",
      "3    : (2,2) reward = 0\n"
     ]
    }
   ],
   "source": [
    "env.reset()\n",
    "done = False\n",
    "while not done:\n",
    "    \n",
    "    action = env.action_space.sample()\n",
    "    new_state, reward, done, truncated, info = env.step(action)\n",
    "    \n",
    "    if version == 'v0' or version == 'v1':\n",
    "        print(new_state, reward, done)\n",
    "        \n",
    "    elif version <= 'v4':\n",
    "        env.render(action = action, reward=reward)\n",
    "    else:\n",
    "        info_str = f\"{Actions(Actions): <5}: ({new_state}) reward = {reward}\"\n",
    "        env.render(info = {'side_info' : [((10,10),info_str)]})\n",
    "        print(info_str)"
   ]
  },
  {
   "cell_type": "code",
   "execution_count": null,
   "id": "142c07c8",
   "metadata": {},
   "outputs": [],
   "source": []
  }
 ],
 "metadata": {
  "kernelspec": {
   "display_name": "rein_study",
   "language": "python",
   "name": "rein_study"
  },
  "language_info": {
   "codemirror_mode": {
    "name": "ipython",
    "version": 3
   },
   "file_extension": ".py",
   "mimetype": "text/x-python",
   "name": "python",
   "nbconvert_exporter": "python",
   "pygments_lexer": "ipython3",
   "version": "3.7.13"
  }
 },
 "nbformat": 4,
 "nbformat_minor": 5
}
