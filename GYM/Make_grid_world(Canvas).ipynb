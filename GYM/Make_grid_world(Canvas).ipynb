{
 "cells": [
  {
   "cell_type": "code",
   "execution_count": 1,
   "metadata": {},
   "outputs": [],
   "source": [
    "import sys\n",
    "sys.path.insert(0, '../')"
   ]
  },
  {
   "cell_type": "code",
   "execution_count": 2,
   "metadata": {},
   "outputs": [],
   "source": [
    "import os\n",
    "import shutil\n",
    "from time import sleep\n",
    "from ipywidgets import Layout, Play, Image, IntProgress, HBox, VBox, link\n",
    "from IPython.display import Image as PyImage\n",
    "import gym"
   ]
  },
  {
   "cell_type": "code",
   "execution_count": 3,
   "metadata": {},
   "outputs": [],
   "source": [
    "from stable_baselines3.common.env_checker import check_env"
   ]
  },
  {
   "cell_type": "code",
   "execution_count": 12,
   "metadata": {},
   "outputs": [],
   "source": [
    "from ipycanvas import Canvas, hold_canvas"
   ]
  },
  {
   "cell_type": "code",
   "execution_count": 5,
   "metadata": {},
   "outputs": [],
   "source": [
    "cell_pixels = 64\n",
    "grid_width = 3\n",
    "grid_height = 3\n",
    "\n",
    "width_pixels = grid_width * cell_pixels\n",
    "height_pixels = grid_height * cell_pixels\n",
    "\n",
    "canvas = Canvas(width = width_pixels, height=height_pixels, sync_image_data = True)"
   ]
  },
  {
   "cell_type": "code",
   "execution_count": 6,
   "metadata": {},
   "outputs": [
    {
     "data": {
      "application/vnd.jupyter.widget-view+json": {
       "model_id": "bb3d1572fa01413b86205c46d12e5b1f",
       "version_major": 2,
       "version_minor": 0
      },
      "text/plain": [
       "Canvas(height=192, sync_image_data=True, width=192)"
      ]
     },
     "metadata": {},
     "output_type": "display_data"
    }
   ],
   "source": [
    "def draw_base(canvas):\n",
    "    canvas.fill_style = 'orange'\n",
    "    canvas.fill_rect(0, 0, canvas.width, canvas.height)\n",
    "    \n",
    "draw_base(canvas)\n",
    "canvas"
   ]
  },
  {
   "cell_type": "code",
   "execution_count": 7,
   "metadata": {},
   "outputs": [],
   "source": [
    "def draw_grid(canvas):\n",
    "    canvas.stroke_style = '#777'\n",
    "    canvas.line_width = 1\n",
    "    canvas.set_line_dash([4,8])\n",
    "    \n",
    "    for y in range(grid_height):\n",
    "        for x in range(grid_width):\n",
    "            canvas.stroke_rect(cell_pixels * x, cell_pixels * y, cell_pixels, cell_pixels)"
   ]
  },
  {
   "cell_type": "code",
   "execution_count": 17,
   "metadata": {},
   "outputs": [
    {
     "data": {
      "application/vnd.jupyter.widget-view+json": {
       "model_id": "e6788becef274aea9a85a5ff308f0a8a",
       "version_major": 2,
       "version_minor": 0
      },
      "text/plain": [
       "Canvas(height=192, sync_image_data=True, width=192)"
      ]
     },
     "metadata": {},
     "output_type": "display_data"
    }
   ],
   "source": [
    "canvas = Canvas(width=width_pixels, height=height_pixels, sync_image_data = True)\n",
    "draw_base(canvas)\n",
    "draw_grid(canvas)\n",
    "canvas"
   ]
  },
  {
   "cell_type": "code",
   "execution_count": 18,
   "metadata": {},
   "outputs": [],
   "source": [
    "def draw_border(canvas):\n",
    "    canvas.stroke_style = 'black'\n",
    "    canvas.line_width = 5\n",
    "    canvas.set_line_dash([0,0])\n",
    "    canvas.stroke_rect(0,0,width_pixels, height_pixels)"
   ]
  },
  {
   "cell_type": "code",
   "execution_count": 19,
   "metadata": {},
   "outputs": [
    {
     "data": {
      "application/vnd.jupyter.widget-view+json": {
       "model_id": "8973ef517e874c1892485c3eb6553bbf",
       "version_major": 2,
       "version_minor": 0
      },
      "text/plain": [
       "Canvas(height=192, sync_image_data=True, width=192)"
      ]
     },
     "metadata": {},
     "output_type": "display_data"
    }
   ],
   "source": [
    "canvas = Canvas(width=width_pixels, height=height_pixels, sync_image_data=True)\n",
    "draw_base(canvas) \n",
    "draw_grid( canvas )\n",
    "draw_border(canvas)\n",
    "canvas"
   ]
  },
  {
   "cell_type": "code",
   "execution_count": 9,
   "metadata": {},
   "outputs": [],
   "source": [
    "### 그린 Canvas와 별도로 Agent가 움직일 수 있는 MultiCanvas를 만듦"
   ]
  },
  {
   "cell_type": "code",
   "execution_count": 21,
   "metadata": {},
   "outputs": [
    {
     "data": {
      "application/vnd.jupyter.widget-view+json": {
       "model_id": "f55203bf2ace4b1bb31e7214a869580b",
       "version_major": 2,
       "version_minor": 0
      },
      "text/plain": [
       "MultiCanvas(height=192, sync_image_data=True, width=192)"
      ]
     },
     "metadata": {},
     "output_type": "display_data"
    }
   ],
   "source": [
    "from ipycanvas import MultiCanvas\n",
    "\n",
    "layers = 2\n",
    "multi_canvas = MultiCanvas(layers, width=width_pixels, height=height_pixels, sync_image_data=True)\n",
    "draw_base(multi_canvas[0])\n",
    "draw_grid(multi_canvas[0])\n",
    "draw_border(multi_canvas[0])\n",
    "multi_canvas"
   ]
  },
  {
   "cell_type": "code",
   "execution_count": 22,
   "metadata": {
    "scrolled": true
   },
   "outputs": [],
   "source": [
    "baby_robot = Image.from_file('baby_robot_2.png')\n",
    "robot_size = 64\n",
    "\n",
    "def animate_robot(canvas):\n",
    "    canvas.clear()\n",
    "    y = robot_size + 2\n",
    "    for x in range(-robot_size, 200 ,2):\n",
    "        with hold_canvas(canvas):\n",
    "            canvas.clear_rect(x,y,robot_size)\n",
    "            canvas.draw_image(baby_robot, x, y)\n",
    "        sleep(0.04)"
   ]
  },
  {
   "cell_type": "code",
   "execution_count": 23,
   "metadata": {},
   "outputs": [
    {
     "data": {
      "application/vnd.jupyter.widget-view+json": {
       "model_id": "f55203bf2ace4b1bb31e7214a869580b",
       "version_major": 2,
       "version_minor": 0
      },
      "text/plain": [
       "MultiCanvas(height=192, sync_image_data=True, width=192)"
      ]
     },
     "metadata": {},
     "output_type": "display_data"
    }
   ],
   "source": [
    "multi_canvas"
   ]
  },
  {
   "cell_type": "code",
   "execution_count": 24,
   "metadata": {},
   "outputs": [],
   "source": [
    "animate_robot(multi_canvas[1])"
   ]
  },
  {
   "cell_type": "code",
   "execution_count": null,
   "metadata": {},
   "outputs": [],
   "source": []
  }
 ],
 "metadata": {
  "kernelspec": {
   "display_name": "rein_study",
   "language": "python",
   "name": "rein_study"
  },
  "language_info": {
   "codemirror_mode": {
    "name": "ipython",
    "version": 3
   },
   "file_extension": ".py",
   "mimetype": "text/x-python",
   "name": "python",
   "nbconvert_exporter": "python",
   "pygments_lexer": "ipython3",
   "version": "3.7.13"
  }
 },
 "nbformat": 4,
 "nbformat_minor": 2
}
