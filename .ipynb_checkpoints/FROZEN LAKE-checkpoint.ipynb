{
 "cells": [
  {
   "cell_type": "code",
   "execution_count": 1,
   "id": "c6d2336d",
   "metadata": {},
   "outputs": [],
   "source": [
    "# import package\n",
    "import gym\n",
    "import numpy as np"
   ]
  },
  {
   "cell_type": "code",
   "execution_count": 3,
   "id": "be40581c",
   "metadata": {},
   "outputs": [],
   "source": [
    "env = gym.make('FrozenLake-v1')"
   ]
  },
  {
   "cell_type": "code",
   "execution_count": 4,
   "id": "426aee2d",
   "metadata": {},
   "outputs": [],
   "source": [
    "#Initialize table with all zeros\n",
    "Q = np.zeros([env.observation_space.n, env.action_space.n])"
   ]
  },
  {
   "cell_type": "code",
   "execution_count": 5,
   "id": "1ef925b5",
   "metadata": {},
   "outputs": [
    {
     "data": {
      "text/plain": [
       "array([[0., 0., 0., 0.],\n",
       "       [0., 0., 0., 0.],\n",
       "       [0., 0., 0., 0.],\n",
       "       [0., 0., 0., 0.],\n",
       "       [0., 0., 0., 0.],\n",
       "       [0., 0., 0., 0.],\n",
       "       [0., 0., 0., 0.],\n",
       "       [0., 0., 0., 0.],\n",
       "       [0., 0., 0., 0.],\n",
       "       [0., 0., 0., 0.],\n",
       "       [0., 0., 0., 0.],\n",
       "       [0., 0., 0., 0.],\n",
       "       [0., 0., 0., 0.],\n",
       "       [0., 0., 0., 0.],\n",
       "       [0., 0., 0., 0.],\n",
       "       [0., 0., 0., 0.]])"
      ]
     },
     "execution_count": 5,
     "metadata": {},
     "output_type": "execute_result"
    }
   ],
   "source": [
    "Q"
   ]
  },
  {
   "cell_type": "code",
   "execution_count": 17,
   "id": "c5953b84",
   "metadata": {},
   "outputs": [
    {
     "name": "stdout",
     "output_type": "stream",
     "text": [
      "------------------------\n",
      "False\n",
      "action: 0\n",
      "state : 0 \n",
      " info : 0.333\n",
      "------------------------\n",
      "False\n",
      "action: 1\n",
      "state : 0 \n",
      " info : 0.333\n",
      "------------------------\n",
      "False\n",
      "action: 2\n",
      "state : 4 \n",
      " info : 0.333\n",
      "------------------------\n",
      "False\n",
      "action: 3\n",
      "state : 1 \n",
      " info : 0.333\n",
      "------------------------\n"
     ]
    }
   ],
   "source": [
    "observation = env.reset()\n",
    "env.render()\n",
    "print('------------------------')\n",
    "for i in range(env.action_space.n):\n",
    "    action = i\n",
    "    observation, reward, terminated, truncated, info = env.step(action)\n",
    "    env.render()\n",
    "    print('action: %d' %action)\n",
    "    print('state : %d \\n info : %.3f' %(observation,info['prob']))\n",
    "    print('------------------------')\n",
    "    observation = env.reset()"
   ]
  },
  {
   "cell_type": "code",
   "execution_count": 18,
   "id": "bc20148b",
   "metadata": {},
   "outputs": [],
   "source": [
    "# Set learning parameters\n",
    "lr = .8   # learning rate\n",
    "y = .95   # discount factor\n",
    "num_episodes = 2000\n",
    "\n",
    "#create lists to contain total rewards and steps per episode\n",
    "rList = [] # reword list\n",
    "# sList = [] # state list"
   ]
  },
  {
   "cell_type": "code",
   "execution_count": 21,
   "id": "fc9ba3ad",
   "metadata": {},
   "outputs": [
    {
     "ename": "IndexError",
     "evalue": "only integers, slices (`:`), ellipsis (`...`), numpy.newaxis (`None`) and integer or boolean arrays are valid indices",
     "output_type": "error",
     "traceback": [
      "\u001b[0;31m---------------------------------------------------------------------------\u001b[0m",
      "\u001b[0;31mIndexError\u001b[0m                                Traceback (most recent call last)",
      "\u001b[0;32m/tmp/ipykernel_7684/1390710240.py\u001b[0m in \u001b[0;36m<module>\u001b[0;34m\u001b[0m\n\u001b[1;32m     14\u001b[0m         \u001b[0;31m# Choose an action by greedily (with noise) picking from Q table\u001b[0m\u001b[0;34m\u001b[0m\u001b[0;34m\u001b[0m\u001b[0m\n\u001b[1;32m     15\u001b[0m         \u001b[0;31m# 1/ (i+1) factor has the effect of cutting back on randomness\u001b[0m\u001b[0;34m\u001b[0m\u001b[0;34m\u001b[0m\u001b[0m\n\u001b[0;32m---> 16\u001b[0;31m         \u001b[0ma\u001b[0m \u001b[0;34m=\u001b[0m \u001b[0mnp\u001b[0m\u001b[0;34m.\u001b[0m\u001b[0margmax\u001b[0m\u001b[0;34m(\u001b[0m\u001b[0mQ\u001b[0m\u001b[0;34m[\u001b[0m\u001b[0ms\u001b[0m\u001b[0;34m,\u001b[0m\u001b[0;34m:\u001b[0m\u001b[0;34m]\u001b[0m \u001b[0;34m+\u001b[0m \u001b[0mnp\u001b[0m\u001b[0;34m.\u001b[0m\u001b[0mrandom\u001b[0m\u001b[0;34m.\u001b[0m\u001b[0mrandn\u001b[0m\u001b[0;34m(\u001b[0m\u001b[0;36m1\u001b[0m\u001b[0;34m,\u001b[0m\u001b[0menv\u001b[0m\u001b[0;34m.\u001b[0m\u001b[0maction_space\u001b[0m\u001b[0;34m.\u001b[0m\u001b[0mn\u001b[0m\u001b[0;34m)\u001b[0m\u001b[0;34m*\u001b[0m\u001b[0;34m(\u001b[0m\u001b[0;36m1.\u001b[0m\u001b[0;34m/\u001b[0m\u001b[0;34m(\u001b[0m\u001b[0mi\u001b[0m\u001b[0;34m+\u001b[0m\u001b[0;36m1\u001b[0m\u001b[0;34m)\u001b[0m\u001b[0;34m)\u001b[0m\u001b[0;34m)\u001b[0m\u001b[0;34m\u001b[0m\u001b[0m\n\u001b[0m\u001b[1;32m     17\u001b[0m \u001b[0;34m\u001b[0m\u001b[0m\n\u001b[1;32m     18\u001b[0m         \u001b[0;31m#Get new state and reward of action an agent did from environment\u001b[0m\u001b[0;34m\u001b[0m\u001b[0;34m\u001b[0m\u001b[0m\n",
      "\u001b[0;31mIndexError\u001b[0m: only integers, slices (`:`), ellipsis (`...`), numpy.newaxis (`None`) and integer or boolean arrays are valid indices"
     ]
    }
   ],
   "source": [
    "for i in range(num_episodes):\n",
    "    s = env.reset() # Reset environment and get first new observation\n",
    "    rAll = 0        # total reward\n",
    "    d = False       # end of precess\n",
    "    j = 0           # step\n",
    "#     print('-------------')\n",
    "#     env.render()\n",
    "#     print('state : %d \\ninfo : %.3f' %(s,info['prob']))\n",
    "#     print('----------------------------')\n",
    "    #The Q-Table learning algorithm\n",
    "    while j < 100:\n",
    "        j+=1\n",
    "        \n",
    "        # Choose an action by greedily (with noise) picking from Q table\n",
    "        # 1/ (i+1) factor has the effect of cutting back on randomness\n",
    "        a = np.argmax(Q[s,:] + np.random.randn(1,env.action_space.n)*(1./(i+1)))  \n",
    "        \n",
    "        #Get new state and reward of action an agent did from environment\n",
    "        s1, r, d, info = env.step(a)\n",
    "        \n",
    "        # Update Q-Table with new knowledge(=reward)\n",
    "        Q[s,a] = Q[s,a] + lr*(r + y*np.max(Q[s1,:]) - Q[s,a]) \n",
    "        \n",
    "        rAll += r # add reward \n",
    "        s = s1    # move to next state\n",
    "\n",
    "        # Check some conditions in console\n",
    "#         env.render()\n",
    "#         print('step : ')\n",
    "#         print('action: %d' %a)\n",
    "#         print('state : %d \\ninfo : %.3f' %(s,info['prob']))\n",
    "#         print('----------------------------')\n",
    "        \n",
    "        # check the end of process\n",
    "        if d == True:\n",
    "#             if rAll == 1:\n",
    "#                 print('Arrive at goal State!\\n')\n",
    "\n",
    "#             else:\n",
    "#                 print('Arrive at hole. T.T\\n')\n",
    "            break\n",
    "    #jList.append(j)\n",
    "    rList.append(rAll)"
   ]
  },
  {
   "cell_type": "code",
   "execution_count": null,
   "id": "dba4249f",
   "metadata": {},
   "outputs": [],
   "source": []
  }
 ],
 "metadata": {
  "kernelspec": {
   "display_name": "rein_study",
   "language": "python",
   "name": "rein_study"
  },
  "language_info": {
   "codemirror_mode": {
    "name": "ipython",
    "version": 3
   },
   "file_extension": ".py",
   "mimetype": "text/x-python",
   "name": "python",
   "nbconvert_exporter": "python",
   "pygments_lexer": "ipython3",
   "version": "3.7.0"
  }
 },
 "nbformat": 4,
 "nbformat_minor": 5
}
