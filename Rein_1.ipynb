{
 "cells": [
  {
   "cell_type": "code",
   "execution_count": 2,
   "metadata": {},
   "outputs": [],
   "source": [
    "import tensorflow as tf\n",
    "import numpy as np\n",
    "from datetime import datetime"
   ]
  },
  {
   "cell_type": "code",
   "execution_count": 16,
   "metadata": {},
   "outputs": [],
   "source": [
    "tf.compat.v1.disable_eager_execution()"
   ]
  },
  {
   "cell_type": "code",
   "execution_count": 5,
   "metadata": {},
   "outputs": [
    {
     "name": "stdout",
     "output_type": "stream",
     "text": [
      "tf.Tensor(7, shape=(), dtype=int32)\n",
      "tf.Tensor(7, shape=(), dtype=int32)\n"
     ]
    }
   ],
   "source": [
    "# create two constants: a and b\n",
    "a = tf.constant(4)\n",
    "b = tf.constant(3)\n",
    "\n",
    "# perform a computation\n",
    "c = a + b\n",
    "print(c) # print the shape of c\n",
    "\n",
    "print(c) # print the actual result"
   ]
  },
  {
   "cell_type": "code",
   "execution_count": 18,
   "metadata": {},
   "outputs": [],
   "source": [
    "# reset the graph\n",
    "tf.compat.v1.reset_default_graph()"
   ]
  },
  {
   "cell_type": "code",
   "execution_count": 8,
   "metadata": {},
   "outputs": [
    {
     "name": "stdout",
     "output_type": "stream",
     "text": [
      "()\n"
     ]
    }
   ],
   "source": [
    "a = tf.compat.v1.constant(1)\n",
    "print(a.shape)"
   ]
  },
  {
   "cell_type": "code",
   "execution_count": 9,
   "metadata": {},
   "outputs": [
    {
     "name": "stdout",
     "output_type": "stream",
     "text": [
      "tf.Tensor([4 5], shape=(2,), dtype=int32)\n"
     ]
    }
   ],
   "source": [
    "a = tf.compat.v1.constant([1,2,3,4,5])\n",
    "first_three_elem = a[3:]\n",
    "fourth_elem = a[3]\n",
    "\n",
    "print(first_three_elem)"
   ]
  },
  {
   "cell_type": "code",
   "execution_count": 10,
   "metadata": {},
   "outputs": [
    {
     "name": "stdout",
     "output_type": "stream",
     "text": [
      "tf.Tensor(4, shape=(), dtype=int32)\n"
     ]
    }
   ],
   "source": [
    "print(fourth_elem)"
   ]
  },
  {
   "cell_type": "code",
   "execution_count": 11,
   "metadata": {},
   "outputs": [
    {
     "name": "stdout",
     "output_type": "stream",
     "text": [
      "tf.Tensor([1.  1.1 2.1 3.1], shape=(4,), dtype=float32)\n"
     ]
    }
   ],
   "source": [
    "a = tf.compat.v1.constant([1.0, 1.1, 2.1, 3.1], dtype = tf.float32, name='a_const')\n",
    "print(a)"
   ]
  },
  {
   "cell_type": "code",
   "execution_count": 22,
   "metadata": {
    "scrolled": true
   },
   "outputs": [
    {
     "name": "stdout",
     "output_type": "stream",
     "text": [
      "[[10.1 10.2 10.3]]\n"
     ]
    },
    {
     "name": "stderr",
     "output_type": "stream",
     "text": [
      "2022-11-18 14:18:20.439780: I tensorflow/core/common_runtime/gpu/gpu_device.cc:1096] Device interconnect StreamExecutor with strength 1 edge matrix:\n",
      "2022-11-18 14:18:20.439812: I tensorflow/core/common_runtime/gpu/gpu_device.cc:1102]      \n"
     ]
    }
   ],
   "source": [
    "a = tf.compat.v1.placeholder(shape=(1,3), dtype=tf.float32)\n",
    "b = tf.constant([[10,10,10]], dtype=tf.float32)\n",
    "\n",
    "c = a + b\n",
    "\n",
    "sess = tf.compat.v1.Session()\n",
    "#feed_dict={a:[[0.1, 0.2, 0.3,0.4]]}\n",
    "#print(feed_dict)\n",
    "#resss = sess.run(feed_dict)\n",
    "res = sess.run(c, feed_dict={a:[[0.1, 0.2, 0.3]]})\n",
    "print(res)"
   ]
  },
  {
   "cell_type": "code",
   "execution_count": 23,
   "metadata": {},
   "outputs": [],
   "source": [
    "tf.compat.v1.reset_default_graph()"
   ]
  },
  {
   "cell_type": "code",
   "execution_count": 24,
   "metadata": {},
   "outputs": [
    {
     "name": "stdout",
     "output_type": "stream",
     "text": [
      "[[10.1 20.2 30.3]]\n"
     ]
    },
    {
     "name": "stderr",
     "output_type": "stream",
     "text": [
      "2022-11-18 14:18:32.544021: I tensorflow/core/common_runtime/gpu/gpu_device.cc:1096] Device interconnect StreamExecutor with strength 1 edge matrix:\n",
      "2022-11-18 14:18:32.544046: I tensorflow/core/common_runtime/gpu/gpu_device.cc:1102]      \n"
     ]
    }
   ],
   "source": [
    "a = tf.compat.v1.placeholder(shape=(None,3), dtype = tf.float32)\n",
    "b = tf.compat.v1.placeholder(shape=(None,3), dtype = tf.float32)\n",
    "\n",
    "c = a+b\n",
    "\n",
    "sess = tf.compat.v1.Session()\n",
    "\n",
    "res = sess.run(c, feed_dict = {a:[[0.1, 0.2, 0.3]], b:[[10 ,20, 30]]})\n",
    "\n",
    "print(res)"
   ]
  },
  {
   "cell_type": "code",
   "execution_count": 26,
   "metadata": {},
   "outputs": [
    {
     "name": "stdout",
     "output_type": "stream",
     "text": [
      "[[7. 7. 7.]\n",
      " [7. 7. 7.]]\n"
     ]
    }
   ],
   "source": [
    "v_a = np.array(([1,2,3],[4,5,6]))\n",
    "v_b = np.array(([6,5,4],[3,2,1]))\n",
    "\n",
    "res = sess.run(c, feed_dict={a:v_a, b:v_b})\n",
    "print(res)"
   ]
  },
  {
   "cell_type": "code",
   "execution_count": 27,
   "metadata": {},
   "outputs": [],
   "source": [
    "tf.compat.v1.reset_default_graph()"
   ]
  },
  {
   "cell_type": "code",
   "execution_count": 29,
   "metadata": {},
   "outputs": [
    {
     "name": "stdout",
     "output_type": "stream",
     "text": [
      "WARNING:tensorflow:From /home/soohyoen/anaconda3/envs/rein_study/lib/python3.7/site-packages/tensorflow_core/python/ops/resource_variable_ops.py:1635: calling BaseResourceVariable.__init__ (from tensorflow.python.ops.resource_variable_ops) with constraint is deprecated and will be removed in a future version.\n",
      "Instructions for updating:\n",
      "If using Keras pass *_constraint arguments to layers.\n",
      "[[ 0.27670455 -0.7185631   0.5422646 ]]\n",
      "[[4 5]]\n"
     ]
    },
    {
     "name": "stderr",
     "output_type": "stream",
     "text": [
      "2022-11-18 14:19:04.775841: I tensorflow/core/common_runtime/gpu/gpu_device.cc:1096] Device interconnect StreamExecutor with strength 1 edge matrix:\n",
      "2022-11-18 14:19:04.775874: I tensorflow/core/common_runtime/gpu/gpu_device.cc:1102]      \n"
     ]
    }
   ],
   "source": [
    "tf.compat.v1.reset_default_graph()\n",
    "\n",
    "var = tf.compat.v1.get_variable(\"first_variable\", shape=[1,3], dtype=tf.float32, initializer=tf.compat.v1.glorot_uniform_initializer)\n",
    "\n",
    "init_val = np.array([4,5])\n",
    "var2 = tf.compat.v1.get_variable(\"second_variable\", shape=[1,2], dtype=tf.int32, initializer=tf.compat.v1.constant_initializer(init_val))\n",
    "\n",
    "sess = tf.compat.v1.Session()\n",
    "sess.run(tf.compat.v1.global_variables_initializer())\n",
    "\n",
    "print(sess.run(var))\n",
    "print(sess.run(var2))"
   ]
  },
  {
   "cell_type": "code",
   "execution_count": 30,
   "metadata": {},
   "outputs": [],
   "source": [
    "var2 = tf.compat.v1.get_variable(\"variable\", shape=[1,2], trainable=False, dtype=tf.int32)"
   ]
  },
  {
   "cell_type": "code",
   "execution_count": 31,
   "metadata": {},
   "outputs": [
    {
     "name": "stdout",
     "output_type": "stream",
     "text": [
      "[<tf.Variable 'first_variable:0' shape=(1, 3) dtype=float32>, <tf.Variable 'second_variable:0' shape=(1, 2) dtype=int32>, <tf.Variable 'variable:0' shape=(1, 2) dtype=int32>]\n"
     ]
    }
   ],
   "source": [
    "print(tf.compat.v1.global_variables())"
   ]
  },
  {
   "cell_type": "code",
   "execution_count": 33,
   "metadata": {},
   "outputs": [
    {
     "name": "stderr",
     "output_type": "stream",
     "text": [
      "2022-11-18 14:19:33.593800: I tensorflow/core/common_runtime/gpu/gpu_device.cc:1096] Device interconnect StreamExecutor with strength 1 edge matrix:\n",
      "2022-11-18 14:19:33.593828: I tensorflow/core/common_runtime/gpu/gpu_device.cc:1102]      \n"
     ]
    },
    {
     "data": {
      "text/plain": [
       "-0.7197214"
      ]
     },
     "execution_count": 33,
     "metadata": {},
     "output_type": "execute_result"
    }
   ],
   "source": [
    "# reset_graph \n",
    "# get_varialbe에서 Session을 하려면 initializer을 해줘야함\n",
    "\n",
    "tf.compat.v1.reset_default_graph()\n",
    "\n",
    "const1 = tf.compat.v1.constant(3.0, name='constant1')\n",
    "\n",
    "var = tf.compat.v1.get_variable(\"variable1\", shape=[1,2], dtype=tf.float32)\n",
    "var2 = tf.compat.v1.get_variable(\"variable2\", shape=[1,2], trainable=False, dtype=tf.float32)\n",
    "\n",
    "op1 = const1 * var\n",
    "op2 = op1 + var2\n",
    "op3 = tf.compat.v1.reduce_mean(op2)\n",
    "\n",
    "sess = tf.compat.v1.Session()\n",
    "sess.run(tf.compat.v1.global_variables_initializer())\n",
    "sess.run(op3)"
   ]
  },
  {
   "cell_type": "code",
   "execution_count": 39,
   "metadata": {},
   "outputs": [
    {
     "name": "stdout",
     "output_type": "stream",
     "text": [
      "Epoch:   0, MSE: 4572.0996, W: 1.295, b: -0.797\n",
      "Epoch:  40, MSE: 5.8447, W: 0.497, b: -1.052\n",
      "Epoch:  80, MSE: 4.8327, W: 0.533, b: -0.243\n",
      "Epoch: 120, MSE: 4.2012, W: 0.515, b: 0.458\n",
      "Epoch: 160, MSE: 3.8903, W: 0.507, b: 1.004\n",
      "Epoch: 200, MSE: 3.7699, W: 0.502, b: 1.372\n",
      "Final weight: 0.501, bias: 1.433\n"
     ]
    },
    {
     "name": "stderr",
     "output_type": "stream",
     "text": [
      "2022-11-18 14:21:21.011410: I tensorflow/core/common_runtime/gpu/gpu_device.cc:1096] Device interconnect StreamExecutor with strength 1 edge matrix:\n",
      "2022-11-18 14:21:21.011430: I tensorflow/core/common_runtime/gpu/gpu_device.cc:1102]      \n"
     ]
    }
   ],
   "source": [
    "tf.compat.v1.reset_default_graph()\n",
    "\n",
    "np.random.seed(10)\n",
    "tf.compat.v1.compat.v1.set_random_seed(10)\n",
    "\n",
    "W, b = 0.5, 1.4\n",
    "# create a dataset of 100 examples\n",
    "X = np.linspace(0,100, num=100)\n",
    "# add random noise to the y labels\n",
    "y = np.random.normal(loc=W * X + b, scale=2.0, size=len(X))\n",
    "\n",
    "# create the placeholders\n",
    "x_ph = tf.compat.v1.placeholder(shape=[None,], dtype=tf.float32)\n",
    "y_ph = tf.compat.v1.placeholder(shape=[None,], dtype=tf.float32)\n",
    "\n",
    "# create the variables.\n",
    "v_weight = tf.compat.v1.get_variable(\"weight\", shape=[1], dtype=tf.float32)\n",
    "v_bias = tf.compat.v1.get_variable(\"bias\", shape=[1], dtype=tf.float32)\n",
    "\n",
    "# linear computation\n",
    "out = v_weight * x_ph + v_bias\n",
    "\n",
    "# compute the Mean Squared Error\n",
    "loss = tf.compat.v1.reduce_mean((out - y_ph)**2)\n",
    "\n",
    "# optimizer\n",
    "opt = tf.compat.v1.train.AdamOptimizer(0.4).minimize(loss)\n",
    "\n",
    "\n",
    "tf.compat.v1.summary.scalar('MSEloss', loss)\n",
    "tf.compat.v1.summary.histogram('model_weight', v_weight)\n",
    "tf.compat.v1.summary.histogram('model_bias', v_bias)\n",
    "all_summary = tf.compat.v1.summary.merge_all()\n",
    "\n",
    "now = datetime.now()\n",
    "clock_time = \"{}_{}.{}.{}\".format(now.day, now.hour, now.minute, now.second)\n",
    "file_writer = tf.compat.v1.summary.FileWriter('log_dir/'+clock_time, tf.compat.v1.get_default_graph())\n",
    "\n",
    "\n",
    "# create the session\n",
    "session = tf.compat.v1.Session()\n",
    "session.run(tf.compat.v1.global_variables_initializer())\n",
    "\n",
    "# loop to train the parameters\n",
    "for ep in range(210):\n",
    "    # run the optimizer and get the loss\n",
    "    train_loss, _, train_summary = session.run([loss, opt, all_summary], feed_dict={x_ph:X, y_ph:y})\n",
    "    file_writer.add_summary(train_summary, ep)\n",
    " \n",
    "    # print epoch number and loss\n",
    "    if ep % 40 == 0:\n",
    "        print('Epoch: %3d, MSE: %.4f, W: %.3f, b: %.3f' % (ep, train_loss, session.run(v_weight), session.run(v_bias)))\n",
    "        \n",
    "print('Final weight: %.3f, bias: %.3f' % (session.run(v_weight), session.run(v_bias)))\n",
    "file_writer.close()"
   ]
  },
  {
   "cell_type": "code",
   "execution_count": null,
   "metadata": {},
   "outputs": [],
   "source": []
  }
 ],
 "metadata": {
  "kernelspec": {
   "display_name": "rein_study",
   "language": "python",
   "name": "rein_study"
  },
  "language_info": {
   "codemirror_mode": {
    "name": "ipython",
    "version": 3
   },
   "file_extension": ".py",
   "mimetype": "text/x-python",
   "name": "python",
   "nbconvert_exporter": "python",
   "pygments_lexer": "ipython3",
   "version": "3.7.0"
  }
 },
 "nbformat": 4,
 "nbformat_minor": 2
}
