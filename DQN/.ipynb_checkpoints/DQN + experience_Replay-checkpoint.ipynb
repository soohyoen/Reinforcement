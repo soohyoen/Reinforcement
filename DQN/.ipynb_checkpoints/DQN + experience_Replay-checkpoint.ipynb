{
 "cells": [
  {
   "cell_type": "code",
   "execution_count": 1,
   "id": "39972270",
   "metadata": {},
   "outputs": [],
   "source": [
    "from torch import nn\n",
    "import torch\n",
    "import gym\n",
    "from collections import deque\n",
    "import itertools\n",
    "import numpy as np\n",
    "import random"
   ]
  },
  {
   "cell_type": "code",
   "execution_count": 2,
   "id": "22de67ea",
   "metadata": {},
   "outputs": [],
   "source": [
    "GAMMA = 0.99\n",
    "BATCH_SIZE = 32\n",
    "BUFFER_SIZE = 50000\n",
    "MIN_REPLAY_SIZE = 1000\n",
    "EPSILON_START = 1.0\n",
    "EPSILON_END = 0.02\n",
    "EPSILON_DECAY = 10000\n",
    "MAX_EP = 25000\n",
    "\n",
    "REWARD_ACC = list()\n",
    "LOSS_ACC = list()\n",
    "\n",
    "torch.manual_seed(1234)\n",
    "np.random.seed(1234)"
   ]
  },
  {
   "cell_type": "code",
   "execution_count": 5,
   "id": "27c24afb",
   "metadata": {},
   "outputs": [],
   "source": [
    "class Network(nn.Module):\n",
    "    def __init__(self,env):\n",
    "        super().__init__()\n",
    "        \n",
    "        in_features = int(np.prod(env.observation_space.shape))\n",
    "        \n",
    "        self.net = nn.Sequential(\n",
    "            nn.Linear(in_features, 64),\n",
    "            nn.Tanh(),\n",
    "            nn.Linear(64,env.action_space.n)\n",
    "        )\n",
    "        \n",
    "    def forward(self, x):\n",
    "        return self.net(x)\n",
    "    \n",
    "    def act(self,state):\n",
    "        \n",
    "        state_t = torch.as_tensor(state, dtype=torch.float32)\n",
    "        \n",
    "        q_values = self.forward(state_t.unsqueeze(0))\n",
    "        \n",
    "        max_q_index = torch.argmax(q_values, dim=1)[0]\n",
    "        \n",
    "        action = max_q_index.detach().item()\n",
    "        \n",
    "        return action"
   ]
  },
  {
   "cell_type": "code",
   "execution_count": 6,
   "id": "078efa89",
   "metadata": {},
   "outputs": [],
   "source": [
    "env = gym.make('CartPole-v1')\n",
    "replay_buffer = deque(maxlen=BUFFER_SIZE)\n",
    "reward_buffer = deque([0.0], maxlen=100)\n",
    "episode_reward = 0.0\n",
    "\n",
    "target_net = Network(env)\n",
    "\n",
    "optimizer = torch.optim.Adam(target_net.parameters(), lr=5e-4)"
   ]
  },
  {
   "cell_type": "code",
   "execution_count": 7,
   "id": "0401569e",
   "metadata": {},
   "outputs": [],
   "source": [
    "# Initialize Replay Buffer\n",
    "# 최소 MIN_REPLAY_SIZE 만큼의 transition을 buffer에 넣고 시작한다.\n",
    "\n",
    "state = env.reset()\n",
    "\n",
    "for _ in range(MIN_REPLAY_SIZE):\n",
    "    \n",
    "    action = env.action_space.sample()\n",
    "    new_state, reward, done,_ = env.step(action)\n",
    "    transition = (state, action, reward, done, new_state)\n",
    "    replay_buffer.append(transition)\n",
    "    state = new_state\n",
    "    \n",
    "    if done:\n",
    "        state = env.reset()"
   ]
  },
  {
   "cell_type": "code",
   "execution_count": null,
   "id": "2814aaa0",
   "metadata": {},
   "outputs": [],
   "source": [
    "state = env.reset()\n",
    "\n",
    "for step in itertools.count():\n",
    "    \n",
    "    epsilon = np.interp(step, [0, EPSILON_DECAY], [EPSILON_START, EPSILON_END])\n",
    "    \n",
    "    random_sample = random.random()\n",
    "    \n",
    "    if random_sample <= epsilone:\n",
    "        action = env.action_space.sample()\n",
    "        \n",
    "    else: \n",
    "        action = target_net.act(state)\n",
    "        \n",
    "    new_state, reward, done, _ = env.step(action)\n",
    "    transition = (state, action ,reward, done, new_state)\n",
    "    replay_buffer.append(transition)\n",
    "    state = new_state\n",
    "    \n",
    "    episode_reward = episode_reward + reward\n",
    "    \n",
    "    if done:\n",
    "        state = env.reset()\n",
    "        reward_buffer.append(episode_reward)\n",
    "        episode_reward = 0.0\n",
    "        \n",
    "    transitions = random.sample(replay_buffer, BATCH_SIZE)\n",
    "    \n",
    "    state = np.asarray([t[0] for t in transitions])\n",
    "    actions = np.asarray([t[1] for t in transitions])"
   ]
  }
 ],
 "metadata": {
  "kernelspec": {
   "display_name": "rein_study",
   "language": "python",
   "name": "rein_study"
  },
  "language_info": {
   "codemirror_mode": {
    "name": "ipython",
    "version": 3
   },
   "file_extension": ".py",
   "mimetype": "text/x-python",
   "name": "python",
   "nbconvert_exporter": "python",
   "pygments_lexer": "ipython3",
   "version": "3.7.13"
  }
 },
 "nbformat": 4,
 "nbformat_minor": 5
}
