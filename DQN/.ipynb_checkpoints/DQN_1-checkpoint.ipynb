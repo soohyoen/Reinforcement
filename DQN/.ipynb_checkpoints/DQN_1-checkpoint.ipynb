{
 "cells": [
  {
   "cell_type": "markdown",
   "id": "a091ab06",
   "metadata": {},
   "source": [
    "#### 기존의 Q-learning은 state-action(s,a)에 해당하는 Q-value인 Q(s,a)를 테이블 형식으로 저장하여 학습함\n",
    "#### 이러한 방식은 state space와 action space가 커지면 모든 Q-value를 저장해야해서 memory와 exploration time 이슈가 생김\n"
   ]
  },
  {
   "cell_type": "code",
   "execution_count": null,
   "id": "53f4f262",
   "metadata": {},
   "outputs": [],
   "source": []
  }
 ],
 "metadata": {
  "kernelspec": {
   "display_name": "rein_study",
   "language": "python",
   "name": "rein_study"
  },
  "language_info": {
   "codemirror_mode": {
    "name": "ipython",
    "version": 3
   },
   "file_extension": ".py",
   "mimetype": "text/x-python",
   "name": "python",
   "nbconvert_exporter": "python",
   "pygments_lexer": "ipython3",
   "version": "3.7.13"
  }
 },
 "nbformat": 4,
 "nbformat_minor": 5
}
