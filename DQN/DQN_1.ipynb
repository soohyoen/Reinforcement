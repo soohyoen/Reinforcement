{
 "cells": [
  {
   "cell_type": "markdown",
   "id": "9bc80ccb",
   "metadata": {},
   "source": [
    "#### 기존의 Q-learning은 state-action(s,a)에 해당하는 Q-value인 Q(s,a)를 테이블 형식으로 저장하여 학습함\n",
    "#### 이러한 방식은 state space와 action space가 커지면 모든 Q-value를 저장해야해서 memory와 exploration time 이슈가 생김\n",
    "#### 딥러닝을 이용하여 Q-table.에 해당하는 Q-function을 비선형함수로 근사시켜 모든 S-A에 대한 Q-value값을 찾거나 저장할 필요를 없앰\n",
    "#### 이때 딥러닝으로 근사한 Q-function의 weight parameter들은 일반적으로 세타로 표현함"
   ]
  },
  {
   "cell_type": "code",
   "execution_count": null,
   "id": "8fc62677",
   "metadata": {},
   "outputs": [],
   "source": []
  }
 ],
 "metadata": {
  "kernelspec": {
   "display_name": "rein_study",
   "language": "python",
   "name": "rein_study"
  },
  "language_info": {
   "codemirror_mode": {
    "name": "ipython",
    "version": 3
   },
   "file_extension": ".py",
   "mimetype": "text/x-python",
   "name": "python",
   "nbconvert_exporter": "python",
   "pygments_lexer": "ipython3",
   "version": "3.7.13"
  }
 },
 "nbformat": 4,
 "nbformat_minor": 5
}
