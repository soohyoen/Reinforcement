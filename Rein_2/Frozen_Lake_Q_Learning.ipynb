{
 "cells": [
  {
   "cell_type": "code",
   "execution_count": 1,
   "id": "220d2485",
   "metadata": {},
   "outputs": [],
   "source": [
    "%config IPCompleter.greedy = True"
   ]
  },
  {
   "cell_type": "code",
   "execution_count": 2,
   "id": "c0c3327f",
   "metadata": {},
   "outputs": [],
   "source": [
    "import random\n",
    "import gym\n",
    "import numpy as np\n",
    "import time\n",
    "from gym.envs.registration import register\n",
    "from IPython.display import clear_output\n",
    "import matplotlib.pyplot as plt"
   ]
  },
  {
   "cell_type": "code",
   "execution_count": 3,
   "id": "99ce5c44",
   "metadata": {},
   "outputs": [],
   "source": [
    "register(\n",
    "        id = 'FrozenLakeNoSlip-v0',\n",
    "        entry_point = 'gym.envs.toy_text:FrozenLakeEnv',\n",
    "        kwargs={'map_name': '4x4', 'is_slippery':False},\n",
    "        max_episode_steps=100,\n",
    "        reward_threshold=0.78 # optimum = .8196\n",
    "        )\n",
    "\n",
    "env_name = \"FrozenLakeNoSlip-v0\""
   ]
  },
  {
   "cell_type": "code",
   "execution_count": 4,
   "id": "b287f39d",
   "metadata": {},
   "outputs": [
    {
     "name": "stdout",
     "output_type": "stream",
     "text": [
      "Observation space ->  Discrete(16)\n",
      "Action space ->  Discrete(4)\n",
      "Type of action -> <class 'gym.spaces.discrete.Discrete'>\n"
     ]
    }
   ],
   "source": [
    "env = gym.make(env_name)\n",
    "\n",
    "print(\"Observation space -> \", env.observation_space)\n",
    "print(\"Action space -> \", env.action_space)\n",
    "print(\"Type of action ->\", type(env.action_space))"
   ]
  },
  {
   "cell_type": "code",
   "execution_count": 5,
   "id": "43452849",
   "metadata": {},
   "outputs": [],
   "source": [
    "class Agent:\n",
    "    \n",
    "    def __init__(self, env):\n",
    "        self.is_discrete = \\\n",
    "            type(env.action_space) == gym.spaces.discrete.Discrete\n",
    "        \n",
    "        self.state_size = env.observation_space.n\n",
    "        print(\"State size:\", self.state_size)\n",
    "        \n",
    "        if self.is_discrete:\n",
    "            self.action_size = env.action_space.n\n",
    "            print(\"Enviroment is Discrete and Action size is \", self.action_size)\n",
    "            \n",
    "        else:\n",
    "            print(\"Environment is Continuous\")\n",
    "            \n",
    "            self.action_low = env.action_space.low\n",
    "            self.action_high = env.action_space.high\n",
    "            self.action_shape = env.action_space.shape\n",
    "            print(\"self.action_low ->\", self.action_low)\n",
    "            print(\"self.action_high ->\", self.action_high)\n",
    "            print(\"self.action_shape ->\", self.action_shape)\n",
    "            \n",
    "    def get_action(self, state):\n",
    "        \n",
    "        if self.is_discrete:\n",
    "            action = random.choice(range(self.action_size))\n",
    "        else:\n",
    "            action = np.random.uniform(self.action_low,\n",
    "                                      self.action_high,\n",
    "                                      self.action_shape)\n",
    "            \n",
    "        return action"
   ]
  },
  {
   "cell_type": "code",
   "execution_count": 6,
   "id": "2452be4a",
   "metadata": {},
   "outputs": [],
   "source": [
    "class Q_Agent(Agent):\n",
    "    def __init__(self, env, discount_rate=0.97, learning_rate=0.01):\n",
    "        super().__init__(env)\n",
    "        \n",
    "        self.eps = 1.0\n",
    "        self.discount_rate = discount_rate\n",
    "        self.learning_rate = learning_rate\n",
    "        self.build_model()\n",
    "        \n",
    "        print(\"discount_rate:\", discount_rate)\n",
    "        print(\"learning_rate :\", learning_rate)\n",
    "        \n",
    "    def build_model(self):\n",
    "        self.Q_table = 1e-4 * np.random.random([self.state_size, self.action_size])\n",
    "        \n",
    "    def get_action(self, state):\n",
    "        Q_current = self.Q_table[state]\n",
    "        action_greedy = np.argmax(Q_current)\n",
    "        action_random = super().get_action(state)\n",
    "        \n",
    "        if random.random() < self.eps:\n",
    "            return action_random\n",
    "        else:\n",
    "            return action_greedy\n",
    "        \n",
    "    def train(self, experience):\n",
    "        state, action, reward, next_state, done = experience\n",
    "        \n",
    "        Q_next = self.Q_table[next_state]\n",
    "        \n",
    "        if done:\n",
    "            Q_next = np.zeros([self.action_size])\n",
    "            \n",
    "        self.Q_table[state, action] = (1 - self.learning_rate) * self.Q_table[state, action] + \\\n",
    "        self.learning_rate * (reward + self.discount_rate * np.max(Q_next))\n",
    "        \n",
    "        if done:\n",
    "            self.eps = self.eps * 0.99"
   ]
  },
  {
   "cell_type": "code",
   "execution_count": 7,
   "id": "afb0725b",
   "metadata": {},
   "outputs": [
    {
     "name": "stdout",
     "output_type": "stream",
     "text": [
      "Action 2 led the agent to move from state 14 to state 15. Reward=1.0. Done? True\n",
      "Episode: 999, Total reward: 841.0, eps: 4.317124741065784e-05\n",
      "---------------------------------------------------------------------\n",
      "\n",
      " [[4.90207956e-04 7.25595037e-01 6.97080738e-05 5.24512965e-03]\n",
      " [2.26107598e-04 1.97874324e-05 6.34354969e-05 6.64521573e-05]\n",
      " [5.71598735e-05 8.03953728e-05 2.06792527e-05 3.94830370e-05]\n",
      " [4.51934629e-05 1.46416744e-05 5.76592439e-05 5.93681896e-05]\n",
      " [1.51589589e-03 8.16465242e-01 3.13269236e-05 7.78636233e-03]\n",
      " [2.83547831e-05 4.26906830e-05 2.63177443e-07 7.79676664e-05]\n",
      " [6.42189715e-05 3.27597329e-05 5.42166547e-05 5.90127171e-05]\n",
      " [5.82783741e-06 6.99531631e-05 8.05700224e-05 5.23432696e-05]\n",
      " [5.93080623e-05 4.00621950e-05 8.83764774e-01 7.17266268e-04]\n",
      " [6.51603043e-03 9.31675413e-01 1.71648231e-03 3.01360795e-05]\n",
      " [2.79641431e-05 6.12307600e-02 3.95290867e-05 5.36731320e-05]\n",
      " [4.33960185e-05 5.79525705e-05 3.41882861e-05 4.05653172e-05]\n",
      " [5.28034504e-06 6.71785710e-05 8.70673491e-05 7.02606730e-05]\n",
      " [4.09862657e-05 1.87463533e-02 9.68021456e-01 4.91998592e-04]\n",
      " [9.10745647e-03 3.11449120e-02 9.99786608e-01 9.87686407e-04]\n",
      " [5.49084533e-05 5.27047554e-05 2.06335619e-05 4.52386511e-05]]\n",
      "---------------------------------------------------------------------\n",
      "  (Right)\n",
      "SFFF\n",
      "FHFH\n",
      "FFFH\n",
      "HFF\u001b[41mG\u001b[0m\n"
     ]
    }
   ],
   "source": [
    "Q_agent = Q_Agent(env)\n",
    "total_reward = 0\n",
    "total_reward_list = list()\n",
    "episodes = 1000\n",
    "\n",
    "for episode in range(episodes):\n",
    "    \n",
    "    total_reward_list.append(total_reward)\n",
    "    state = env.reset()\n",
    "    \n",
    "    print(f\"Entering Episode {episode}\")\n",
    "    print(f\"Total Reward is {total_reward}\")\n",
    "    \n",
    "    done = False \n",
    "    \n",
    "    while not done:\n",
    "        \n",
    "        action = Q_agent.get_action(state)\n",
    "        next_state, reward, done, info = env.step(action)\n",
    "        \n",
    "        experience = (state, action, reward, next_state, done)\n",
    "        print(f\"Action {action} led the agent to move from state {state} to state {next_state}. Reward={reward}. Done? {done}\")\n",
    "        \n",
    "        Q_agent.train(experience)\n",
    "        \n",
    "        state = next_state\n",
    "        \n",
    "        total_reward = total_reward + reward\n",
    "        \n",
    "        print(f\"Episode: {episode}, Total reward: {total_reward}, eps: {Q_agent.eps}\")\n",
    "        print(\"---------------------------------------------------------------------\")\n",
    "        print(f\"\\n\", Q_agent.Q_table)\n",
    "        print(\"---------------------------------------------------------------------\")\n",
    "        \n",
    "        env.render()\n",
    "        clear_output(wait=True)"
   ]
  },
  {
   "cell_type": "code",
   "execution_count": 8,
   "id": "8806358f",
   "metadata": {},
   "outputs": [],
   "source": [
    "def analysis_tool(episode_length, total_reward):\n",
    "    fig, ax = plt.subplots()\n",
    "    x = np.linspace(0, episode_length, num=episode_length)\n",
    "    y = total_reward\n",
    "    \n",
    "    ax.plot(x,y)\n",
    "    ax.set_xlabel('Episode')\n",
    "    ax.set_ylabel('Total Reward')\n",
    "    \n",
    "    ax.set_ylim(0, episode_length)\n",
    "    ax.set_title('Accumulate Total Rewards')\n",
    "    ax.grid()"
   ]
  },
  {
   "cell_type": "code",
   "execution_count": 9,
   "id": "8e35f30a",
   "metadata": {},
   "outputs": [
    {
     "data": {
      "image/png": "[encoded data removed]",
      "text/plain": [
       "<Figure size 640x480 with 1 Axes>"
      ]
     },
     "metadata": {},
     "output_type": "display_data"
    }
   ],
   "source": [
    "analysis_tool(episodes, total_reward_list)"
   ]
  },
  {
   "cell_type": "code",
   "execution_count": null,
   "id": "d45a951a",
   "metadata": {},
   "outputs": [],
   "source": []
  }
 ],
 "metadata": {
  "kernelspec": {
   "display_name": "rein_study",
   "language": "python",
   "name": "rein_study"
  },
  "language_info": {
   "codemirror_mode": {
    "name": "ipython",
    "version": 3
   },
   "file_extension": ".py",
   "mimetype": "text/x-python",
   "name": "python",
   "nbconvert_exporter": "python",
   "pygments_lexer": "ipython3",
   "version": "3.7.13"
  }
 },
 "nbformat": 4,
 "nbformat_minor": 5
}
