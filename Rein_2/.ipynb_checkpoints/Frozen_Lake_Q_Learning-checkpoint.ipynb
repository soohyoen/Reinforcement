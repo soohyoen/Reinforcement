{
 "cells": [
  {
   "cell_type": "code",
   "execution_count": 1,
   "id": "6a4b21cf",
   "metadata": {},
   "outputs": [],
   "source": [
    "%config IPCompleter.greedy = True"
   ]
  },
  {
   "cell_type": "code",
   "execution_count": 2,
   "id": "ff2a2477",
   "metadata": {},
   "outputs": [],
   "source": [
    "import random\n",
    "import gym\n",
    "import numpy as np\n",
    "import time\n",
    "from gym.envs.registration import register\n",
    "from IPython.display import clear_output\n",
    "import matplotlib.pyplot as plt"
   ]
  },
  {
   "cell_type": "code",
   "execution_count": 3,
   "id": "4e36239a",
   "metadata": {},
   "outputs": [],
   "source": [
    "register(\n",
    "        id = 'FrozenLakeNoSlip-v0',\n",
    "        entry_point = 'gym.envs.toy_text:FrozenLakeEnv',\n",
    "        kwargs={'map_name': '4x4', 'is_slippery':False},\n",
    "        max_episode_steps=100,\n",
    "        reward_threshold=0.78 # optimum = .8196\n",
    "        )\n",
    "\n",
    "env_name = \"FrozenLakeNoSlip-v0\""
   ]
  },
  {
   "cell_type": "code",
   "execution_count": 4,
   "id": "8ad5c7cb",
   "metadata": {},
   "outputs": [
    {
     "name": "stdout",
     "output_type": "stream",
     "text": [
      "Observation space ->  Discrete(16)\n",
      "Action space ->  Discrete(4)\n",
      "Type of action -> <class 'gym.spaces.discrete.Discrete'>\n"
     ]
    }
   ],
   "source": [
    "env = gym.make(env_name)\n",
    "\n",
    "print(\"Observation space -> \", env.observation_space)\n",
    "print(\"Action space -> \", env.action_space)\n",
    "print(\"Type of action ->\", type(env.action_space))"
   ]
  },
  {
   "cell_type": "code",
   "execution_count": 7,
   "id": "d682247e",
   "metadata": {},
   "outputs": [],
   "source": [
    "class Agent:\n",
    "    \n",
    "    def __init__(self, env):\n",
    "        self.is_discrete = \\\n",
    "            type(env.action_space) == gym.spaces.discrete.Discrete\n",
    "        \n",
    "        self.state_size = env.observation_space.n\n",
    "        print(\"State size:\", self.state_size)\n",
    "        \n",
    "        if self.is_discrete:\n",
    "            self.action_size = env.action_space.n\n",
    "            print(\"Enviroment is Discrete and Action size is \", self.action_size)\n",
    "            \n",
    "        else:\n",
    "            print(\"Environment is Continuous\")\n",
    "            \n",
    "            self.action_low = env.action_space.low\n",
    "            self.action_high = env.action_space.high\n",
    "            self.action_shape = env.action_space.shape\n",
    "            print(\"self.action_low ->\", self.action_low)\n",
    "            print(\"self.action_high ->\", self.action_high)\n",
    "            print(\"self.action_shape ->\", self.action_shape)\n",
    "            \n",
    "    def get_action(self, state):\n",
    "        \n",
    "        if self.is_discrete:\n",
    "            action = random.choice(range(self.action_size))\n",
    "        else:\n",
    "            action = np.random.uniform(self.action_low,\n",
    "                                      self.action_high,\n",
    "                                      self.action_shape)\n",
    "            \n",
    "        return action"
   ]
  },
  {
   "cell_type": "code",
   "execution_count": 8,
   "id": "d354770a",
   "metadata": {},
   "outputs": [],
   "source": [
    "class Q_Agent(Agent):\n",
    "    def __init__(self, env, discount_rate=0.97, learning_rate=0.01):\n",
    "        super().__init__(env)\n",
    "        \n",
    "        self.eps = 1.0\n",
    "        self.discount_rate = discount_rate\n",
    "        self.learning_rate = learning_rate\n",
    "        self.build_model()\n",
    "        \n",
    "        print(\"discount_rate:\", discount_rate)\n",
    "        print(\"learning_rate :\", learning_rate)\n",
    "        \n",
    "    def build_model(self):\n",
    "        self.Q_table = 1e-4 * np.random.random([self.state_size, self.action_size])\n",
    "        \n",
    "    def get_action(self, state):\n",
    "        Q_current = self.Q_table[state]\n",
    "        action_greedy = np.argmax(Q_current)\n",
    "        action_random = super().get_action(state)\n",
    "        \n",
    "        if random.random() < self.eps:\n",
    "            return action_random\n",
    "        else:\n",
    "            return action_greedy\n",
    "        \n",
    "    def train(self, experience):\n",
    "        state, action, reward, next_state, done = experience\n",
    "        \n",
    "        Q_next = self.Q_table[next_state]\n",
    "        \n",
    "        if done:\n",
    "            Q_next = np.zeros([self.action_size])\n",
    "            \n",
    "        self.Q_table[state, action] = (1 - self.learning_rate) * self.Q_table[state, action] + \\\n",
    "        self.learning_rate * (reward + self.discount_rate * np.max(Q_next))\n",
    "        \n",
    "        if done:\n",
    "            self.eps = self.eps * 0.99"
   ]
  },
  {
   "cell_type": "code",
   "execution_count": 9,
   "id": "1f738588",
   "metadata": {},
   "outputs": [
    {
     "name": "stdout",
     "output_type": "stream",
     "text": [
      "Action 2 led the agent to move from state 14 to state 15. Reward=1.0. Done? True\n",
      "Episode: 999, Total reward: 761.0, eps: 4.317124741065784e-05\n",
      "---------------------------------------------------------------------\n",
      "\n",
      " [[5.86974535e-05 5.86537659e-05 6.63493169e-01 5.86892698e-05]\n",
      " [1.33258255e-04 3.95195582e-05 7.76785503e-01 3.56328815e-04]\n",
      " [3.43429409e-04 8.63375738e-01 3.85426994e-05 2.29092428e-04]\n",
      " [7.91053560e-05 5.12577053e-05 7.99646559e-05 5.06934874e-05]\n",
      " [5.76013193e-05 5.73849126e-05 3.92046703e-06 1.79502632e-04]\n",
      " [3.33567917e-05 4.03176856e-05 2.92890109e-05 4.07012469e-05]\n",
      " [4.54372293e-06 9.23799893e-01 5.81913829e-05 2.40127254e-04]\n",
      " [1.90472482e-05 3.13810533e-05 5.93313563e-05 8.05017314e-05]\n",
      " [2.78211933e-05 4.18499313e-05 4.24089496e-05 4.98524770e-05]\n",
      " [6.20974217e-05 4.50957239e-05 3.40389073e-04 2.44561279e-05]\n",
      " [5.66474420e-05 9.65986766e-01 4.59562690e-05 4.81453042e-04]\n",
      " [6.06646969e-05 5.05234695e-05 5.31077336e-05 1.79820274e-05]\n",
      " [7.85138837e-05 5.72014180e-05 4.67477330e-05 9.67079786e-05]\n",
      " [7.65223186e-05 9.92898722e-05 1.62589301e-02 3.85772705e-05]\n",
      " [1.72499445e-04 1.39535184e-02 9.99523194e-01 1.38775162e-03]\n",
      " [5.70054170e-05 5.46232073e-05 6.93320216e-05 9.91023462e-05]]\n",
      "---------------------------------------------------------------------\n",
      "  (Right)\n",
      "SFFF\n",
      "FHFH\n",
      "FFFH\n",
      "HFF\u001b[41mG\u001b[0m\n"
     ]
    }
   ],
   "source": [
    "Q_agent = Q_Agent(env)\n",
    "total_reward = 0\n",
    "total_reward_list = list()\n",
    "episodes = 1000\n",
    "\n",
    "for episode in range(episodes):\n",
    "    \n",
    "    total_reward_list.append(total_reward)\n",
    "    state = env.reset()\n",
    "    \n",
    "    print(f\"Entering Episode {episode}\")\n",
    "    print(f\"Total Reward is {total_reward}\")\n",
    "    \n",
    "    done = False \n",
    "    \n",
    "    while not done:\n",
    "        \n",
    "        action = Q_agent.get_action(state)\n",
    "        next_state, reward, done, info = env.step(action)\n",
    "        \n",
    "        experience = (state, action, reward, next_state, done)\n",
    "        print(f\"Action {action} led the agent to move from state {state} to state {next_state}. Reward={reward}. Done? {done}\")\n",
    "        \n",
    "        Q_agent.train(experience)\n",
    "        \n",
    "        state = next_state\n",
    "        \n",
    "        total_reward = total_reward + reward\n",
    "        \n",
    "        print(f\"Episode: {episode}, Total reward: {total_reward}, eps: {Q_agent.eps}\")\n",
    "        print(\"---------------------------------------------------------------------\")\n",
    "        print(f\"\\n\", Q_agent.Q_table)\n",
    "        print(\"---------------------------------------------------------------------\")\n",
    "        \n",
    "        env.render()\n",
    "        clear_output(wait=True)"
   ]
  },
  {
   "cell_type": "code",
   "execution_count": 10,
   "id": "1f65f65c",
   "metadata": {},
   "outputs": [],
   "source": [
    "def analysis_tool(episode_length, total_reward):\n",
    "    fig, ax = plt.subplots()\n",
    "    x = np.linspace(0, episode_length, num=episode_length)\n",
    "    y = total_reward\n",
    "    \n",
    "    ax.plot(x,y)\n",
    "    ax.set_xlabel('Episode')\n",
    "    ax.set_ylabel('Total Reward')\n",
    "    \n",
    "    ax.set_ylim(0, episode_length)\n",
    "    ax.set_title('Accumulate Total Rewards')\n",
    "    ax.grid()"
   ]
  },
  {
   "cell_type": "code",
   "execution_count": 11,
   "id": "594c29ec",
   "metadata": {},
   "outputs": [
    {
     "data": {
      "image/png": "[encoded data removed]",
      "text/plain": [
       "<Figure size 640x480 with 1 Axes>"
      ]
     },
     "metadata": {},
     "output_type": "display_data"
    }
   ],
   "source": [
    "analysis_tool(episodes, total_reward_list)"
   ]
  },
  {
   "cell_type": "code",
   "execution_count": null,
   "id": "de5f9a69",
   "metadata": {},
   "outputs": [],
   "source": []
  }
 ],
 "metadata": {
  "kernelspec": {
   "display_name": "rein_study",
   "language": "python",
   "name": "rein_study"
  },
  "language_info": {
   "codemirror_mode": {
    "name": "ipython",
    "version": 3
   },
   "file_extension": ".py",
   "mimetype": "text/x-python",
   "name": "python",
   "nbconvert_exporter": "python",
   "pygments_lexer": "ipython3",
   "version": "3.7.13"
  }
 },
 "nbformat": 4,
 "nbformat_minor": 5
}
