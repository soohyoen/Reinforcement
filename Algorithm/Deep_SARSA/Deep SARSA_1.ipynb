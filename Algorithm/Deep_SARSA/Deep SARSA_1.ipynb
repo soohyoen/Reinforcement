{
 "cells": [
  {
   "cell_type": "markdown",
   "id": "062a8479",
   "metadata": {},
   "source": [
    "## Cart-Pole 예제에서 Expected SARSA 에이전트 학습\n",
    "### x : Cart의 가로상의 위치\n",
    "### θ : Pole의 각도\n",
    "### dx/dt : Cart의 속도\n",
    "### dθ/dt : θ의 각속도\n",
    "###### 세타가 15도 이상이 되거나, 원점으로부터의 x의 거리가 2.4이상이 되었을 때"
   ]
  },
  {
   "cell_type": "code",
   "execution_count": 2,
   "id": "0b998d60",
   "metadata": {
    "scrolled": true
   },
   "outputs": [],
   "source": [
    "import numpy as np\n",
    "import pandas as pd\n",
    "import random\n",
    "from collections import defaultdict\n",
    "import gym\n",
    "\n",
    "import torch\n",
    "import torch.nn as nn\n",
    "import torch.optim as optim\n",
    "\n",
    "import matplotlib.pyplot as plt"
   ]
  },
  {
   "cell_type": "code",
   "execution_count": 3,
   "id": "42faf1df",
   "metadata": {},
   "outputs": [],
   "source": [
    "# Deep SARSA 에이전트 클래스를 만들어줌\n",
    "# 인공신경망의 레이어 수는 세개 각각 32개의 노드를 사용한다.\n",
    "# 옵티마이저는 Adam을 사용\n",
    "# 활성화 함수 : 입력된 데이터의 가중 합을 출력 신호로 변환하는 함수\n",
    "# ReLU → 입력값이 0보다 작으면 0을 0보다 크면 입력값 그대로 출력\n",
    "\n",
    "class DeepSARSA:\n",
    "    def __init__(self, num_states, num_actions):\n",
    "        \n",
    "        self.num_states = num_states\n",
    "        self.num_actions = num_actions\n",
    "        self.alpha = 0.001\n",
    "        self.gamma = 0.99\n",
    "        self.epsilon = 1.\n",
    "        self.epsilon_decay = .99995\n",
    "        self.epsilon_min = 0.01\n",
    "          \n",
    "        self.model =nn.Sequential(\n",
    "            nn.Linear(self.num_states, 32),\n",
    "            nn.ReLU(),\n",
    "            nn.Linear(32,32),\n",
    "            nn.ReLU(),\n",
    "            nn.Linear(32, self.num_actions)\n",
    "        )\n",
    "        self.optimizer = optim.Adam(self.model.parameters(), lr=self.alpha)\n",
    "        \n",
    "    # 현재상태, 현재행동, 보상, 다음상태, 다음행동 을가지고 시간차 학습\n",
    "    # 에피소드가 끝나는 시점에는 미래의 값을 고려하지 않고 학습함\n",
    "    def update(self, state, action, reward, next_state, next_action, done):\n",
    "        \n",
    "        self.decrease_epsilon()\n",
    "        self.optimizer.zero_grad()\n",
    "        \n",
    "        q_value = self.model(state)[action]\n",
    "        next_q_value = self.model(next_state)[next_action].detach()\n",
    "        \n",
    "        q_target = reward + (1 - int(done)) * self.gamma * next_q_value\n",
    "        q_error = (q_target - q_value) ** 2\n",
    "        \n",
    "        q_error.backward()\n",
    "        self.optimizer.step()\n",
    "        \n",
    "        return q_error.item()\n",
    "    \n",
    "    def decrease_epsilon(self):      \n",
    "        if self.epsilon > self.epsilon_min:\n",
    "            self.epsilon *= self.epsilon_decay\n",
    "            \n",
    "    def act(self, state):        \n",
    "        if np.random.rand() < self.epsilon:\n",
    "            action = np.random.choice(self.num_actions)\n",
    "            \n",
    "        else:\n",
    "            \n",
    "            q_values = self.model(state)\n",
    "            action = torch.argmax(q_values).item()\n",
    "            \n",
    "        return action"
   ]
  },
  {
   "cell_type": "code",
   "execution_count": 4,
   "id": "8b174271",
   "metadata": {
    "scrolled": true
   },
   "outputs": [
    {
     "data": {
      "text/plain": [
       "array([-0.00431391,  0.02705465, -0.01444569, -0.03511632])"
      ]
     },
     "execution_count": 4,
     "metadata": {},
     "output_type": "execute_result"
    }
   ],
   "source": [
    "import gym\n",
    "from gym import wrappers\n",
    "env = gym.make('CartPole-v1')\n",
    "env = wrappers.Monitor(env, \"./video\", force=True)\n",
    "observation = env.reset()\n",
    "agent = DeepSARSA(4,2)\n",
    "\n",
    "observation"
   ]
  },
  {
   "cell_type": "code",
   "execution_count": 5,
   "id": "b2a9bcb1",
   "metadata": {},
   "outputs": [
    {
     "name": "stderr",
     "output_type": "stream",
     "text": [
      "/home/soohyoen/anaconda3/envs/rein_study/lib/python3.7/site-packages/torch/autograd/__init__.py:199: UserWarning: CUDA initialization: The NVIDIA driver on your system is too old (found version 10020). Please update your GPU driver by downloading and installing a new version from the URL: http://www.nvidia.com/Download/index.aspx Alternatively, go to: https://pytorch.org to install a PyTorch version that has been compiled with your version of the CUDA driver. (Triggered internally at ../c10/cuda/CUDAFunctions.cpp:109.)\n",
      "  allow_unreachable=True, accumulate_grad=True)  # Calls into the C++ engine to run the backward pass\n"
     ]
    },
    {
     "name": "stdout",
     "output_type": "stream",
     "text": [
      "episode : 10, eps: 0.991, loss : 1.6, rewards: 16.0\n",
      "episode : 20, eps: 0.983, loss : 9.5, rewards: 19.0\n",
      "episode : 30, eps: 0.971, loss : 8.1, rewards: 19.0\n",
      "episode : 40, eps: 0.962, loss : 11.9, rewards: 23.0\n",
      "episode : 50, eps: 0.953, loss : 5.5, rewards: 32.0\n",
      "episode : 60, eps: 0.941, loss : 8.7, rewards: 45.0\n",
      "episode : 70, eps: 0.933, loss : 30.1, rewards: 10.0\n",
      "episode : 80, eps: 0.920, loss : 13.8, rewards: 17.0\n",
      "episode : 90, eps: 0.911, loss : 11.3, rewards: 20.0\n",
      "episode : 100, eps: 0.899, loss : 9.7, rewards: 20.0\n",
      "episode : 110, eps: 0.889, loss : 12.1, rewards: 11.0\n",
      "episode : 120, eps: 0.878, loss : 5.0, rewards: 30.0\n",
      "episode : 130, eps: 0.867, loss : 2.7, rewards: 34.0\n",
      "episode : 140, eps: 0.859, loss : 3.5, rewards: 10.0\n",
      "episode : 150, eps: 0.846, loss : 8.4, rewards: 28.0\n",
      "episode : 160, eps: 0.834, loss : 9.9, rewards: 21.0\n",
      "episode : 170, eps: 0.819, loss : 7.9, rewards: 48.0\n",
      "episode : 180, eps: 0.805, loss : 12.9, rewards: 27.0\n",
      "episode : 190, eps: 0.794, loss : 7.3, rewards: 15.0\n",
      "episode : 200, eps: 0.785, loss : 9.9, rewards: 16.0\n",
      "episode : 210, eps: 0.770, loss : 17.5, rewards: 18.0\n",
      "episode : 220, eps: 0.755, loss : 16.2, rewards: 26.0\n",
      "episode : 230, eps: 0.743, loss : 16.0, rewards: 23.0\n",
      "episode : 240, eps: 0.732, loss : 7.2, rewards: 23.0\n",
      "episode : 250, eps: 0.711, loss : 4.5, rewards: 47.0\n",
      "episode : 260, eps: 0.695, loss : 8.9, rewards: 27.0\n",
      "episode : 270, eps: 0.683, loss : 21.1, rewards: 22.0\n",
      "episode : 280, eps: 0.671, loss : 17.6, rewards: 21.0\n",
      "episode : 290, eps: 0.658, loss : 39.3, rewards: 10.0\n",
      "episode : 300, eps: 0.641, loss : 22.2, rewards: 35.0\n",
      "episode : 310, eps: 0.624, loss : 7.4, rewards: 98.0\n",
      "episode : 320, eps: 0.606, loss : 20.6, rewards: 18.0\n",
      "episode : 330, eps: 0.581, loss : 16.2, rewards: 71.0\n",
      "episode : 340, eps: 0.559, loss : 8.1, rewards: 141.0\n",
      "episode : 350, eps: 0.542, loss : 11.0, rewards: 153.0\n",
      "episode : 360, eps: 0.513, loss : 46.7, rewards: 61.0\n",
      "episode : 370, eps: 0.476, loss : 76.0, rewards: 32.0\n",
      "episode : 380, eps: 0.458, loss : 17.8, rewards: 132.0\n",
      "episode : 390, eps: 0.422, loss : 53.6, rewards: 69.0\n",
      "episode : 400, eps: 0.393, loss : 61.6, rewards: 35.0\n",
      "episode : 410, eps: 0.336, loss : 6.9, rewards: 500.0\n",
      "episode : 420, eps: 0.304, loss : 1.2, rewards: 117.0\n",
      "episode : 430, eps: 0.278, loss : 0.9, rewards: 140.0\n",
      "episode : 440, eps: 0.244, loss : 27.7, rewards: 317.0\n",
      "episode : 450, eps: 0.197, loss : 202.1, rewards: 31.0\n",
      "episode : 460, eps: 0.186, loss : 6.9, rewards: 261.0\n",
      "episode : 470, eps: 0.152, loss : 8.7, rewards: 402.0\n",
      "episode : 480, eps: 0.141, loss : 266.0, rewards: 11.0\n",
      "episode : 490, eps: 0.120, loss : 16.0, rewards: 247.0\n",
      "episode : 500, eps: 0.102, loss : 11.4, rewards: 309.0\n"
     ]
    }
   ],
   "source": [
    "rewards = []\n",
    "for ep in range(500):\n",
    "    done = False\n",
    "    obs = torch.FloatTensor(env.reset())\n",
    "    action = agent.act(obs)\n",
    "    \n",
    "    ep_rewards = 0\n",
    "    losses = []\n",
    "    while not done:\n",
    "        next_obs, reward, done, info = env.step(action)\n",
    "        next_obs = torch.FloatTensor(next_obs)\n",
    "        \n",
    "        next_action = agent.act(next_obs)\n",
    "        \n",
    "        loss = agent.update(obs, action, reward, next_obs, next_action, done)\n",
    "        losses.append(loss)\n",
    "        \n",
    "        ep_rewards += reward\n",
    "        obs = next_obs\n",
    "        action = next_action\n",
    "    rewards.append(ep_rewards)\n",
    "    ep_loss =sum(losses) / len(losses)\n",
    "    if (ep+1) % 10 == 0 :\n",
    "        print(\"episode : {}, eps: {:.3f}, loss : {:.1f}, rewards: {}\". format(ep+1, agent.epsilon,ep_loss, ep_rewards ))\n",
    "    \n",
    "env.close()"
   ]
  },
  {
   "cell_type": "code",
   "execution_count": 22,
   "id": "8368d308",
   "metadata": {},
   "outputs": [],
   "source": [
    "import base64\n",
    "import glob\n",
    "import io\n",
    "from IPython.display import HTML\n",
    "from IPython import display "
   ]
  },
  {
   "cell_type": "code",
   "execution_count": 23,
   "id": "3bec05c4",
   "metadata": {
    "scrolled": true
   },
   "outputs": [],
   "source": [
    "def show_video():\n",
    "    mp4list = glob.glob('video/*.mp4')\n",
    "    if len(mp4list) > 0:\n",
    "        mp4 = mp4list[0]\n",
    "        video = io.open(mp4, 'r+b').read()\n",
    "        encoded = base64.b64encode(video)\n",
    "        display.display(HTML(data='''<video alt=\"test\" autoplay \n",
    "                loop controls style=\"height: 400px;\">\n",
    "                <source src=\"data:video/mp4;base64,{0}\" type=\"video/mp4\" />\n",
    "             </video>'''.format(encoded.decode('ascii'))))"
   ]
  },
  {
   "cell_type": "code",
   "execution_count": 24,
   "id": "e577609b",
   "metadata": {},
   "outputs": [
    {
     "data": {
      "text/html": [
       "<video alt=\"test\" autoplay \n",
       "                loop controls style=\"height: 400px;\">\n",
       "                <source src=\"data:video/mp4;base64,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\" type=\"video/mp4\" />\n",
       "             </video>"
      ],
      "text/plain": [
       "<IPython.core.display.HTML object>"
      ]
     },
     "metadata": {},
     "output_type": "display_data"
    }
   ],
   "source": [
    "show_video()"
   ]
  },
  {
   "cell_type": "code",
   "execution_count": null,
   "id": "80aecb4e",
   "metadata": {},
   "outputs": [],
   "source": []
  }
 ],
 "metadata": {
  "kernelspec": {
   "display_name": "rein_study",
   "language": "python",
   "name": "rein_study"
  },
  "language_info": {
   "codemirror_mode": {
    "name": "ipython",
    "version": 3
   },
   "file_extension": ".py",
   "mimetype": "text/x-python",
   "name": "python",
   "nbconvert_exporter": "python",
   "pygments_lexer": "ipython3",
   "version": "3.7.13"
  }
 },
 "nbformat": 4,
 "nbformat_minor": 5
}
