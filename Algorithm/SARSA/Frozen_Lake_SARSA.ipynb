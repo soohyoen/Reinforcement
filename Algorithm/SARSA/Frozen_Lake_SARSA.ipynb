{
 "cells": [
  {
   "cell_type": "code",
   "execution_count": 1,
   "id": "fea975b7",
   "metadata": {},
   "outputs": [],
   "source": [
    "%config IPCompleter.greedy = True"
   ]
  },
  {
   "cell_type": "code",
   "execution_count": 2,
   "id": "2a0a8ec9",
   "metadata": {},
   "outputs": [],
   "source": [
    "import random\n",
    "import gym\n",
    "import numpy as np\n",
    "import time\n",
    "from gym.envs.registration import register\n",
    "from IPython.display import clear_output\n",
    "import matplotlib.pyplot as plt"
   ]
  },
  {
   "cell_type": "code",
   "execution_count": 3,
   "id": "7c5c3eb9",
   "metadata": {},
   "outputs": [],
   "source": [
    "register(\n",
    "        id='FrozenLakeNoSlip-v0',\n",
    "        entry_point='gym.envs.toy_text:FrozenLakeEnv',\n",
    "        kwargs={'map_name' : '4x4', 'is_slippery':False},\n",
    "        max_episode_steps=100,\n",
    "        reward_threshold=0.78, # optimum = .8196\n",
    "        ) \n",
    "\n",
    "env_name = \"FrozenLakeNoSlip-v0\"    "
   ]
  },
  {
   "cell_type": "code",
   "execution_count": 4,
   "id": "9bdb672f",
   "metadata": {},
   "outputs": [
    {
     "name": "stdout",
     "output_type": "stream",
     "text": [
      "Observation space -> Discrete(16)\n",
      "Action space ->  Discrete(4)\n",
      "Type of action -> <class 'gym.spaces.discrete.Discrete'>\n"
     ]
    }
   ],
   "source": [
    "env = gym.make(env_name)\n",
    "\n",
    "print(\"Observation space ->\", env.observation_space)\n",
    "print(\"Action space -> \", env.action_space)\n",
    "print(\"Type of action ->\", type(env.action_space))"
   ]
  },
  {
   "cell_type": "code",
   "execution_count": 8,
   "id": "66d9b5f8",
   "metadata": {},
   "outputs": [],
   "source": [
    "class Agent:\n",
    "    '''\n",
    "    1. Model이 discrete한지 continuous한지 판단하고, state_size를 저장한다.\n",
    "    2. discrete일 경우, action_size를 저장. \n",
    "    3. continuous일 경우, action의 boundary와 shape을 저장.\n",
    "    '''\n",
    "    def __init__(self, env):\n",
    "        self.is_discrete = \\\n",
    "            type(env.action_space) == gym.spaces.discrete.Discrete\n",
    "        \n",
    "        # state_size == state의 갯수 \n",
    "        self.state_size = env.observation_space.n\n",
    "        print(\"State size:\", self.state_size)\n",
    "        \n",
    "        if self.is_discrete:\n",
    "            # action_size == action의 갯수 \n",
    "            self.action_size = env.action_space.n\n",
    "            print(\"Environment is Discrete and Action size is\", self.action_size)\n",
    "  \n",
    "        else:\n",
    "            print(\"Environment is Continuous\")\n",
    "            \n",
    "            # action의 boundary와 action의 shape\n",
    "            self.action_low = env.action_space.low \n",
    "            self.action_high = env.action_space.high\n",
    "            self.action_shape = env.action_space.shape\n",
    "            print(\"self.action_low ->\", self.action_low)\n",
    "            print(\"self.action_high ->\", self.action_high)\n",
    "            print(\"self.action_shape ->\", self.action_shape)\n",
    "\n",
    "    def get_action(self, state):\n",
    "        '''\n",
    "        Returns a randomly selected action\n",
    "        '''\n",
    "        if self.is_discrete:\n",
    "            action = random.choice(range(self.action_size))\n",
    "        else:\n",
    "            action = np.random.uniform(self.action_low,\n",
    "                                       self.action_high,\n",
    "                                       self.action_shape)\n",
    "            \n",
    "        return action"
   ]
  },
  {
   "cell_type": "code",
   "execution_count": 9,
   "id": "536c2a30",
   "metadata": {},
   "outputs": [],
   "source": [
    "class SARSA_Agent(Agent):\n",
    "    def __init__(self, env, discount_rate=0.97, learning_rate=0.01):\n",
    "        super().__init__(env)\n",
    "        \n",
    "        self.eps = 1.0\n",
    "        self.discount_rate = discount_rate\n",
    "        self.learning_rate = learning_rate\n",
    "        self.build_model()\n",
    "        \n",
    "        print(\"discount_rate:\", discount_rate)\n",
    "        print(\"learning_rate:\", learning_rate)\n",
    "        \n",
    "    def build_model(self):\n",
    "        self.SARSA_table = 1e-4*np.random.random([self.state_size, self.action_size])\n",
    "        \n",
    "    def get_action(self, state):\n",
    "        SARSA_current = self.SARSA_table[state]\n",
    "        action_greedy = np.argmax(SARSA_current)\n",
    "        action_random = super().get_action(state)\n",
    "        \n",
    "        # Decaying epsilon algorithm. Decay a chance of having the random action for every episode.\n",
    "        if random.random() < self.eps:\n",
    "            return action_random \n",
    "        else:\n",
    "            return action_greedy\n",
    "    \n",
    "    def train(self, experience):\n",
    "        state, action, reward, next_state, next_action, done = experience\n",
    "        \n",
    "        SARSA_next = self.SARSA_table[next_state]\n",
    "        \n",
    "        if done:\n",
    "            SARSA_next = np.zeros([self.action_size])\n",
    "\n",
    "        self.SARSA_table[state, action] = (1 - self.learning_rate) * self.SARSA_table[state, action] + \\\n",
    "        self.learning_rate * (reward + self.discount_rate * self.SARSA_table[next_state, next_action])\n",
    "        \n",
    "        if done:\n",
    "            # decay epsilon. \n",
    "            self.eps = self.eps * 0.99 "
   ]
  },
  {
   "cell_type": "code",
   "execution_count": 11,
   "id": "06edac7f",
   "metadata": {},
   "outputs": [
    {
     "name": "stdout",
     "output_type": "stream",
     "text": [
      "S:4 -> A:2 -> R:0.0 -> S:5 -> A:1. Done? True\n",
      "Episode: 999, Total reward: 1.0, eps: 4.317124741065784e-05\n",
      "---------------------------------------------------------------------\n",
      "\n",
      " [[3.38360534e-05 8.30869228e-05 5.42423574e-05 5.35275417e-05]\n",
      " [6.01651570e-05 8.48511000e-05 4.97980582e-05 3.30646405e-05]\n",
      " [4.67806914e-05 8.87770962e-05 9.49232361e-05 2.04538694e-05]\n",
      " [3.87361177e-05 8.75817840e-05 9.23357343e-06 7.39062307e-05]\n",
      " [6.76891113e-05 4.80277301e-05 8.56968715e-05 5.54055802e-05]\n",
      " [7.49243411e-05 8.83524958e-05 7.58798986e-05 8.75263147e-05]\n",
      " [1.39343884e-05 9.78574226e-05 9.78720719e-05 3.98693272e-05]\n",
      " [6.37008651e-07 8.21851461e-05 5.52430944e-06 4.91683366e-05]\n",
      " [3.15330834e-05 2.19550031e-05 7.55579675e-05 8.88586470e-05]\n",
      " [6.29546956e-06 3.31103467e-05 3.79185569e-05 3.84808772e-05]\n",
      " [5.62143661e-05 6.88292088e-05 8.95926630e-05 1.42459013e-05]\n",
      " [9.96037331e-05 2.48847373e-05 4.25606857e-05 7.60961559e-05]\n",
      " [4.47018333e-05 4.16870619e-05 8.72985549e-06 6.94484910e-05]\n",
      " [4.34249616e-05 3.43966973e-05 4.32329192e-05 5.63566667e-05]\n",
      " [2.69593396e-05 8.56369850e-05 1.00674724e-02 4.90180308e-05]\n",
      " [2.39234456e-05 4.55710953e-05 1.40686309e-07 3.00573237e-05]]\n",
      "---------------------------------------------------------------------\n",
      "  (Right)\n",
      "SFFF\n",
      "F\u001b[41mH\u001b[0mFH\n",
      "FFFH\n",
      "HFFG\n"
     ]
    }
   ],
   "source": [
    "# Generate an agent that follows SARSA-Learning algorithm.\n",
    "SARSA_agent = SARSA_Agent(env)\n",
    "total_reward = 0\n",
    "total_reward_list = list()\n",
    "episodes = 1000\n",
    "\n",
    "for episode in range(episodes):\n",
    "    \n",
    "    total_reward_list.append(total_reward)\n",
    "    state = env.reset() # reset the environment when the episode terminates\n",
    "    \n",
    "    print(f\"Entering Episode {episode}\")\n",
    "    print(f\"Total Reward is {total_reward}\")\n",
    "\n",
    "    \n",
    "    done = False                                                                                                                                                                                                                                                                                                                                                                                                                                                                                                                                                                                                                                                                                                                                                                                                                                                                                                                                                                                                                                                                                                                                                                                                                                                                                                                                                                                                                                                                                                                                                                                                                                                                                                                                                                                                                                                                                                                                                                                                                                                                                                                                                                                                                                                                                                                                                                                                                                                                                                                                                                                                                                                                                                                                                                                                                                                                                                                                                                                                                                                                                                                                                                                                                                                                                                                                                                                                                                                                                                                                                                                                                                                                                                                                                                                                                                                                                                                                                                                                                                                                                                                                                                                                                                                                                                                                                                                                                                                                                                                                                                                                                                                                                                                                                                                                                                                                                                                                                                                                                                                                                                                                                                                                                                                                                                                                                                                                                                                                                                                                                                                                                                                                                                                                                                                                                                                                                                                                                                                                                                                                                                                                                                                                                                                                                                            \n",
    "    \n",
    "    SARSA_action = SARSA_agent.get_action(state)\n",
    "    \n",
    "    while not done:\n",
    "        \n",
    "        next_state, reward, done, info = env.step(SARSA_action)\n",
    "        \n",
    "        SARSA_next_action = SARSA_agent.get_action(next_state)\n",
    "        \n",
    "        experience = (state, SARSA_action, reward, next_state, SARSA_next_action, done)\n",
    "        print(f\"S:{state} -> A:{SARSA_action} -> R:{reward} -> S:{next_state} -> A:{SARSA_next_action}. Done? {done}\")\n",
    "\n",
    "        SARSA_agent.train(experience)\n",
    "        \n",
    "        state = next_state  \n",
    "        \n",
    "        SARSA_action = SARSA_next_action\n",
    "        \n",
    "        total_reward = total_reward + reward\n",
    "        \n",
    "        print(f\"Episode: {episode}, Total reward: {total_reward}, eps: {SARSA_agent.eps}\")\n",
    "        print(\"---------------------------------------------------------------------\")\n",
    "        print(f\"\\n\", SARSA_agent.SARSA_table)\n",
    "        print(\"---------------------------------------------------------------------\")\n",
    "        \n",
    "        env.render()\n",
    "        clear_output(wait=True)"
   ]
  },
  {
   "cell_type": "code",
   "execution_count": 12,
   "id": "6a025cd3",
   "metadata": {},
   "outputs": [],
   "source": [
    "def analysis_tool(episode_length, total_reward):\n",
    "    fig, ax = plt.subplots()\n",
    "    x = np.linspace(0,episode_length, num= episode_length)\n",
    "    y = total_reward\n",
    "    \n",
    "    ax.plot(x,y)\n",
    "    ax.set_xlabel('Episode')\n",
    "    ax.set_ylabel('Total Reward')\n",
    "    \n",
    "    ax.set_ylim(0, episode_length)\n",
    "    ax.set_title('Accumulated Total Rewards')\n",
    "    ax.grid()"
   ]
  },
  {
   "cell_type": "code",
   "execution_count": 13,
   "id": "ac593daf",
   "metadata": {},
   "outputs": [
    {
     "data": {
      "image/png": "[encoded data removed]",
      "text/plain": [
       "<Figure size 640x480 with 1 Axes>"
      ]
     },
     "metadata": {},
     "output_type": "display_data"
    }
   ],
   "source": [
    "analysis_tool(episodes, total_reward_list)"
   ]
  },
  {
   "cell_type": "code",
   "execution_count": null,
   "id": "c7936742",
   "metadata": {},
   "outputs": [],
   "source": []
  }
 ],
 "metadata": {
  "kernelspec": {
   "display_name": "rein_study",
   "language": "python",
   "name": "rein_study"
  },
  "language_info": {
   "codemirror_mode": {
    "name": "ipython",
    "version": 3
   },
   "file_extension": ".py",
   "mimetype": "text/x-python",
   "name": "python",
   "nbconvert_exporter": "python",
   "pygments_lexer": "ipython3",
   "version": "3.7.13"
  }
 },
 "nbformat": 4,
 "nbformat_minor": 5
}
