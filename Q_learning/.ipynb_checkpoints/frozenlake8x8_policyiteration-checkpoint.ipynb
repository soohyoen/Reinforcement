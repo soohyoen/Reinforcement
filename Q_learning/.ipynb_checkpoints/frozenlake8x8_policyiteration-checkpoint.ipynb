{
 "cells": [
  {
   "cell_type": "code",
   "execution_count": 1,
   "id": "cc5cb335",
   "metadata": {},
   "outputs": [],
   "source": [
    "# OpenAI GYM에서 제공하고 있는 환경 중 FrozenLake-v0\n",
    "# Agent가 움직이게끔 환경을 구축해줌"
   ]
  },
  {
   "cell_type": "code",
   "execution_count": 2,
   "id": "3b43106d",
   "metadata": {},
   "outputs": [
    {
     "name": "stderr",
     "output_type": "stream",
     "text": [
      "2022-11-18 16:00:10.869791: W tensorflow/stream_executor/platform/default/dso_loader.cc:55] Could not load dynamic library 'libnvinfer.so.6'; dlerror: libnvinfer.so.6: cannot open shared object file: No such file or directory; LD_LIBRARY_PATH: /usr/local/cuda-10.2/lib64:\n",
      "2022-11-18 16:00:10.869840: W tensorflow/stream_executor/platform/default/dso_loader.cc:55] Could not load dynamic library 'libnvinfer_plugin.so.6'; dlerror: libnvinfer_plugin.so.6: cannot open shared object file: No such file or directory; LD_LIBRARY_PATH: /usr/local/cuda-10.2/lib64:\n",
      "2022-11-18 16:00:10.869844: W tensorflow/compiler/tf2tensorrt/utils/py_utils.cc:30] Cannot dlopen some TensorRT libraries. If you would like to use Nvidia GPU with TensorRT, please make sure the missing libraries mentioned above are installed properly.\n"
     ]
    }
   ],
   "source": [
    "import tensorflow as tf\n",
    "import numpy as np\n",
    "import gym"
   ]
  },
  {
   "cell_type": "code",
   "execution_count": 3,
   "id": "329f481f",
   "metadata": {},
   "outputs": [],
   "source": [
    "# Frozen Lake에 적용된 값 반복 -> 상태-행동 쌍에 대한 행동 상태 값을 추정하기 위함\n",
    "\n",
    "def eval_state_action(V, s, a, gamma=0.99):\n",
    "    return np.sum([p * (rew + gamma * V [next_s]) for p, next_s, rew, _ in env.P[s][a]])"
   ]
  },
  {
   "cell_type": "code",
   "execution_count": 4,
   "id": "559d6e27",
   "metadata": {},
   "outputs": [],
   "source": [
    "# 정상상태에 도달할 때까지 계속 업데이트\n",
    "def policy_evaluation(V, policy, eps=0.0001):\n",
    "    \n",
    "    while True:\n",
    "        delta = 0\n",
    "        # nS : env.observaion_space → gym의 space 클래스 중 Box라는 클래스의 객체를 불러옴\n",
    "        for s in range(nS):\n",
    "            old_v = V[s]\n",
    "            # policy → np.zeros(nS)\n",
    "            V[s] = eval_state_action(V, s, policy[s])\n",
    "            delta = max(delta, np.abs(old_v - V[s]))\n",
    "            \n",
    "        if delta < eps:\n",
    "            break"
   ]
  },
  {
   "cell_type": "code",
   "execution_count": 5,
   "id": "3196df1c",
   "metadata": {},
   "outputs": [],
   "source": [
    "# 함수값 기준으로 보정을 해줌\n",
    "def policy_improvement(V, policy):\n",
    "    \n",
    "    for s in range(nS):\n",
    "        \n",
    "        old_a = policy[s]\n",
    "        policy[s] = np.argmax([eval_state_action(V, s, a) for a in range(nA)])\n",
    "        \n",
    "        if old_a != policy[s]:\n",
    "            \n",
    "            global policy_stable\n",
    "            policy_stable = False\n",
    "            \n",
    "    return policy_stable"
   ]
  },
  {
   "cell_type": "code",
   "execution_count": 6,
   "id": "ca434ed7",
   "metadata": {},
   "outputs": [],
   "source": [
    "# episode를 실행시켜 next_state, reward등의 step을 밟음\n",
    "def run_episodes(env, policy, num_games=100):\n",
    "    \n",
    "    tot_rew = 0\n",
    "    state = env.reset()\n",
    "    \n",
    "    for _ in range(num_games):\n",
    "        done = True\n",
    "        while not done:\n",
    "            next_state, reward, done, _ = env.step(policy[state])\n",
    "            \n",
    "            state = next_state\n",
    "            tot_rew += reward\n",
    "            if done:\n",
    "                state = env.reset()\n",
    "                \n",
    "    print('Won %i of %i games!' %(tot_rew, num_games))"
   ]
  },
  {
   "cell_type": "code",
   "execution_count": 3,
   "id": "e6cb348e",
   "metadata": {},
   "outputs": [
    {
     "name": "stdout",
     "output_type": "stream",
     "text": [
      "{(1, 2, 3): 1, 2: 3}\n"
     ]
    }
   ],
   "source": [
    "a = tuple({1:1, 2:2, 3:3})\n",
    "b = {a:1, 2:3}\n",
    "print (b)"
   ]
  },
  {
   "cell_type": "code",
   "execution_count": null,
   "id": "921b5a88",
   "metadata": {},
   "outputs": [],
   "source": []
  }
 ],
 "metadata": {
  "kernelspec": {
   "display_name": "rein_study",
   "language": "python",
   "name": "rein_study"
  },
  "language_info": {
   "codemirror_mode": {
    "name": "ipython",
    "version": 3
   },
   "file_extension": ".py",
   "mimetype": "text/x-python",
   "name": "python",
   "nbconvert_exporter": "python",
   "pygments_lexer": "ipython3",
   "version": "3.7.0"
  }
 },
 "nbformat": 4,
 "nbformat_minor": 5
}
